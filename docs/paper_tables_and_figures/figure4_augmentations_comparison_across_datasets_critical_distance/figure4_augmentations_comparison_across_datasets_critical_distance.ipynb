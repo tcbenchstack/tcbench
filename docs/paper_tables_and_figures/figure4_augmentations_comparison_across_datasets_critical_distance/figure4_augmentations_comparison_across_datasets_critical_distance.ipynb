{
 "cells": [
  {
   "attachments": {},
   "cell_type": "markdown",
   "metadata": {},
   "source": [
    "# Figure 4 : Critical distance plot of the accuracy obtained withh each augmentationacross the four tested datasets\n"
   ]
  },
  {
   "cell_type": "markdown",
   "metadata": {},
   "source": [
    "[:simple-jupyter: :material-download:](../../paper_tables_and_figures/figure4_augmentations_comparison_across_datasets/figure4_augmentations_comparison_across_datasets.ipynb)"
   ]
  },
  {
   "cell_type": "code",
   "execution_count": 34,
   "metadata": {},
   "outputs": [],
   "source": [
    "import matplotlib as mpl\n",
    "import matplotlib.pyplot as plt\n",
    "import seaborn as sns\n",
    "\n",
    "%matplotlib inline\n",
    "%config InlineBackend.figure_format='retina'"
   ]
  },
  {
   "cell_type": "code",
   "execution_count": 20,
   "metadata": {},
   "outputs": [],
   "source": [
    "import autorank\n",
    "import pandas as pd"
   ]
  },
  {
   "cell_type": "code",
   "execution_count": 21,
   "metadata": {},
   "outputs": [],
   "source": [
    "dat = {\n",
    "    \"mirage19\": pd.read_parquet(\n",
    "        \"./campaigns/mirage19/augmentation-at-loading-no-dropout/minpkts10/campaign_summary/1684958367/runsinfo_flowpic_dim_32.parquet\"\n",
    "    ),\n",
    "    \"mirage22_10\": pd.read_parquet(\n",
    "        \"./campaigns/mirage22/augmentation-at-loading-no-dropout/minpkts10/campaign_summary/1684958367/runsinfo_flowpic_dim_32.parquet\"\n",
    "    ),\n",
    "    \"mirage22_1000\": pd.read_parquet(\n",
    "        \"./campaigns/mirage22/augmentation-at-loading-no-dropout/minpkts1000/campaign_summary/1684958367/runsinfo_flowpic_dim_32.parquet\"\n",
    "    ),\n",
    "    \"utmobile19\": pd.read_parquet(\n",
    "        \"./campaigns/utmobilenet21/augmentation-at-loading-no-dropout/minpkts10/campaign_summary/1684958367/runsinfo_flowpic_dim_32.parquet\"\n",
    "    ),\n",
    "}"
   ]
  },
  {
   "cell_type": "code",
   "execution_count": 22,
   "metadata": {},
   "outputs": [],
   "source": [
    "def prepare_data(df):\n",
    "    res = df[[\"hash\", \"aug_name\", \"seed\", \"split_index\", \"f1\"]]\n",
    "    res.loc[:, \"id\"] = (\n",
    "        \"split_index\"\n",
    "        + res.loc[:, \"split_index\"].astype(str)\n",
    "        + \"_seed\"\n",
    "        + res.loc[:, \"seed\"].astype(str)\n",
    "    )\n",
    "    res = res[[\"aug_name\", \"id\", \"f1\"]]\n",
    "    return res.sort_values([\"aug_name\", \"id\"])\n",
    "\n",
    "\n",
    "def get_ranks(df):\n",
    "    df1 = prepare_data(df)\n",
    "    df1 = df1.pivot(columns=\"aug_name\", index=\"id\").reset_index(drop=True)\n",
    "    df1.columns = df1.columns.get_level_values(1)\n",
    "    new_df = pd.DataFrame(\n",
    "        {\n",
    "            \"changertt\": df1[\"changertt\"].values,\n",
    "            \"colorjitter\": df1[\"colorjitter\"].values,\n",
    "            \"horizontalflip\": df1[\"horizontalflip\"].values,\n",
    "            \"noaug\": df1[\"noaug\"].values,\n",
    "            \"packetloss\": df1[\"packetloss\"].values,\n",
    "            \"rotate\": df1[\"rotate\"].values,\n",
    "            \"timeshift\": df1[\"timeshift\"].values,\n",
    "        }\n",
    "    )\n",
    "    replacement = {\n",
    "        \"noaug\": \"No augmentation\",\n",
    "        \"horizontalflip\": \"Horizontal flip\",\n",
    "        \"rotate\": \"Rotate\",\n",
    "        \"timeshift\": \"Time shift\",\n",
    "        \"colorjitter\": \"Color jitter\",\n",
    "        \"changertt\": \"Change RTT\",\n",
    "        \"packetloss\": \"Packet Loss\",\n",
    "    }\n",
    "    new_df = new_df.rename(columns=replacement).dropna()\n",
    "    rankmat = new_df.rank(axis=\"columns\", ascending=False)\n",
    "    return rankmat\n",
    "\n",
    "\n",
    "def get_pivoted_df(df):\n",
    "    df1 = prepare_data(df)\n",
    "    df1 = df1.pivot(columns=\"aug_name\", index=\"id\").reset_index(drop=True)\n",
    "    df1.columns = df1.columns.get_level_values(1)\n",
    "    new_df = pd.DataFrame(\n",
    "        {\n",
    "            \"changertt\": df1[\"changertt\"].values,\n",
    "            \"colorjitter\": df1[\"colorjitter\"].values,\n",
    "            \"horizontalflip\": df1[\"horizontalflip\"].values,\n",
    "            \"noaug\": df1[\"noaug\"].values,\n",
    "            \"packetloss\": df1[\"packetloss\"].values,\n",
    "            \"rotate\": df1[\"rotate\"].values,\n",
    "            \"timeshift\": df1[\"timeshift\"].values,\n",
    "        }\n",
    "    )\n",
    "    replacement = {\n",
    "        \"noaug\": \"No augmentation\",\n",
    "        \"horizontalflip\": \"Horizontal flip\",\n",
    "        \"rotate\": \"Rotate\",\n",
    "        \"timeshift\": \"Time shift\",\n",
    "        \"colorjitter\": \"Color jitter\",\n",
    "        \"changertt\": \"Change RTT\",\n",
    "        \"packetloss\": \"Packet Loss\",\n",
    "    }\n",
    "    new_df = new_df.rename(columns=replacement).dropna()\n",
    "    return new_df"
   ]
  },
  {
   "cell_type": "code",
   "execution_count": 23,
   "metadata": {},
   "outputs": [
    {
     "name": "stderr",
     "output_type": "stream",
     "text": [
      "/tmp/ipykernel_53164/244620128.py:3: SettingWithCopyWarning: \n",
      "A value is trying to be set on a copy of a slice from a DataFrame.\n",
      "Try using .loc[row_indexer,col_indexer] = value instead\n",
      "\n",
      "See the caveats in the documentation: https://pandas.pydata.org/pandas-docs/stable/user_guide/indexing.html#returning-a-view-versus-a-copy\n",
      "  res.loc[:,'id'] = 'split_index' + res.loc[:,'split_index'].astype(str) + '_seed' + res.loc[:,'seed'].astype(str)\n",
      "/tmp/ipykernel_53164/244620128.py:3: SettingWithCopyWarning: \n",
      "A value is trying to be set on a copy of a slice from a DataFrame.\n",
      "Try using .loc[row_indexer,col_indexer] = value instead\n",
      "\n",
      "See the caveats in the documentation: https://pandas.pydata.org/pandas-docs/stable/user_guide/indexing.html#returning-a-view-versus-a-copy\n",
      "  res.loc[:,'id'] = 'split_index' + res.loc[:,'split_index'].astype(str) + '_seed' + res.loc[:,'seed'].astype(str)\n",
      "/tmp/ipykernel_53164/244620128.py:3: SettingWithCopyWarning: \n",
      "A value is trying to be set on a copy of a slice from a DataFrame.\n",
      "Try using .loc[row_indexer,col_indexer] = value instead\n",
      "\n",
      "See the caveats in the documentation: https://pandas.pydata.org/pandas-docs/stable/user_guide/indexing.html#returning-a-view-versus-a-copy\n",
      "  res.loc[:,'id'] = 'split_index' + res.loc[:,'split_index'].astype(str) + '_seed' + res.loc[:,'seed'].astype(str)\n",
      "/tmp/ipykernel_53164/244620128.py:3: SettingWithCopyWarning: \n",
      "A value is trying to be set on a copy of a slice from a DataFrame.\n",
      "Try using .loc[row_indexer,col_indexer] = value instead\n",
      "\n",
      "See the caveats in the documentation: https://pandas.pydata.org/pandas-docs/stable/user_guide/indexing.html#returning-a-view-versus-a-copy\n",
      "  res.loc[:,'id'] = 'split_index' + res.loc[:,'split_index'].astype(str) + '_seed' + res.loc[:,'seed'].astype(str)\n"
     ]
    },
    {
     "data": {
      "text/plain": [
       "<Axes: >"
      ]
     },
     "execution_count": 23,
     "metadata": {},
     "output_type": "execute_result"
    },
    {
     "data": {
      "image/png": "[encoded data removed]",
      "text/plain": [
       "<Figure size 300x300 with 1 Axes>"
      ]
     },
     "metadata": {
      "image/png": {
       "height": 251,
       "width": 408
      }
     },
     "output_type": "display_data"
    }
   ],
   "source": [
    "fig, ax = plt.subplots(figsize=(3, 3))\n",
    "\n",
    "perfs = pd.concat(\n",
    "    [\n",
    "        get_pivoted_df(dat[\"mirage19\"]),\n",
    "        get_pivoted_df(dat[\"mirage22_10\"]),\n",
    "        get_pivoted_df(dat[\"mirage22_1000\"]),\n",
    "        get_pivoted_df(dat[\"utmobile19\"]),\n",
    "    ]\n",
    ")\n",
    "\n",
    "autorank.plot_stats(autorank.autorank(perfs), ax=ax)"
   ]
  }
 ],
 "metadata": {
  "kernelspec": {
   "display_name": "Python 3 (ipykernel)",
   "language": "python",
   "name": "python3"
  },
  "language_info": {
   "codemirror_mode": {
    "name": "ipython",
    "version": 3
   },
   "file_extension": ".py",
   "mimetype": "text/x-python",
   "name": "python",
   "nbconvert_exporter": "python",
   "pygments_lexer": "ipython3",
   "version": "3.10.11"
  }
 },
 "nbformat": 4,
 "nbformat_minor": 4
}
