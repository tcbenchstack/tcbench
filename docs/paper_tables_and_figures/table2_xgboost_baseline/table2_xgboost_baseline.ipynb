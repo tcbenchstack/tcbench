{
 "cells": [
  {
   "cell_type": "markdown",
   "id": "cb136e42-a75a-409e-8ba6-5a1ee99a9f19",
   "metadata": {},
   "source": [
    "# Table 2: (G0) Baseline ML performance without augmentation in a supervised setting."
   ]
  },
  {
   "cell_type": "markdown",
   "id": "9b090c5f-676b-475a-9a08-aa6a0c090e62",
   "metadata": {},
   "source": [
    "[:simple-jupyter: :material-download:](../../paper_tables_and_figures/table2_xgboost_baseline/table2_xgboost_baseline.ipynb)"
   ]
  },
  {
   "cell_type": "code",
   "execution_count": 1,
   "id": "ac648712-2965-4d5f-a5d2-336047291081",
   "metadata": {},
   "outputs": [],
   "source": [
    "import pandas as pd"
   ]
  },
  {
   "cell_type": "code",
   "execution_count": 43,
   "id": "00ef47b6-5909-477a-895a-e34552b0cf07",
   "metadata": {},
   "outputs": [],
   "source": [
    "df = pd.read_csv(\n",
    "    \"./campaigns/ucdavis-icdm19/xgboost/noaugmentation-flowpic/campaign_summary/1684951896/summary_flowpic_dim_32.csv\"\n",
    ")\n",
    "# df"
   ]
  },
  {
   "cell_type": "code",
   "execution_count": 44,
   "id": "a6d0ab68-f368-4c7a-8b73-cfda3f36c285",
   "metadata": {},
   "outputs": [
    {
     "data": {
      "text/html": [
       "<div>\n",
       "<style scoped>\n",
       "    .dataframe tbody tr th:only-of-type {\n",
       "        vertical-align: middle;\n",
       "    }\n",
       "\n",
       "    .dataframe tbody tr th {\n",
       "        vertical-align: top;\n",
       "    }\n",
       "\n",
       "    .dataframe thead th {\n",
       "        text-align: right;\n",
       "    }\n",
       "</style>\n",
       "<table border=\"1\" class=\"dataframe\">\n",
       "  <thead>\n",
       "    <tr style=\"text-align: right;\">\n",
       "      <th>test_split_name</th>\n",
       "      <th>test-script</th>\n",
       "      <th>test-human</th>\n",
       "    </tr>\n",
       "  </thead>\n",
       "  <tbody>\n",
       "    <tr>\n",
       "      <th>mean</th>\n",
       "      <td>96.53</td>\n",
       "      <td>71.81</td>\n",
       "    </tr>\n",
       "    <tr>\n",
       "      <th>ci95</th>\n",
       "      <td>0.15</td>\n",
       "      <td>2.85</td>\n",
       "    </tr>\n",
       "  </tbody>\n",
       "</table>\n",
       "</div>"
      ],
      "text/plain": [
       "test_split_name  test-script  test-human\n",
       "mean                   96.53       71.81\n",
       "ci95                    0.15        2.85"
      ]
     },
     "execution_count": 44,
     "metadata": {},
     "output_type": "execute_result"
    }
   ],
   "source": [
    "# this is just reformatting to extracting the right values\n",
    "df.columns = [col.split(\".\")[0] for col in df.columns]\n",
    "df = df.set_index([\"test_split_name\", \"aug_name\"], drop=True)\n",
    "df.columns = pd.MultiIndex.from_arrays([df.columns, df.iloc[0].values])\n",
    "df = df.loc[[\"test-script\", \"test-human\"]].droplevel(1, axis=0).astype(float).round(2)\n",
    "\n",
    "df[\"acc\"].T.loc[[\"mean\", \"ci95\"]]"
   ]
  },
  {
   "cell_type": "code",
   "execution_count": 45,
   "id": "4baf0701-0fe3-4aa7-9a16-0dbb85d8cacc",
   "metadata": {},
   "outputs": [],
   "source": [
    "df = pd.read_csv(\n",
    "    \"./campaigns/ucdavis-icdm19/xgboost/noaugmentation-timeseries/campaign_summary/1685008005/summary_max_n_pkts_10.csv\"\n",
    ")\n",
    "# df"
   ]
  },
  {
   "cell_type": "code",
   "execution_count": 41,
   "id": "79b47993-dda8-4af4-89c9-e74d50c16e64",
   "metadata": {},
   "outputs": [
    {
     "data": {
      "text/html": [
       "<div>\n",
       "<style scoped>\n",
       "    .dataframe tbody tr th:only-of-type {\n",
       "        vertical-align: middle;\n",
       "    }\n",
       "\n",
       "    .dataframe tbody tr th {\n",
       "        vertical-align: top;\n",
       "    }\n",
       "\n",
       "    .dataframe thead th {\n",
       "        text-align: right;\n",
       "    }\n",
       "</style>\n",
       "<table border=\"1\" class=\"dataframe\">\n",
       "  <thead>\n",
       "    <tr style=\"text-align: right;\">\n",
       "      <th>test_split_name</th>\n",
       "      <th>test-script</th>\n",
       "      <th>test-human</th>\n",
       "    </tr>\n",
       "  </thead>\n",
       "  <tbody>\n",
       "    <tr>\n",
       "      <th>mean</th>\n",
       "      <td>94.53</td>\n",
       "      <td>67.47</td>\n",
       "    </tr>\n",
       "    <tr>\n",
       "      <th>ci95</th>\n",
       "      <td>0.45</td>\n",
       "      <td>1.51</td>\n",
       "    </tr>\n",
       "  </tbody>\n",
       "</table>\n",
       "</div>"
      ],
      "text/plain": [
       "test_split_name  test-script  test-human\n",
       "mean                   94.53       67.47\n",
       "ci95                    0.45        1.51"
      ]
     },
     "execution_count": 41,
     "metadata": {},
     "output_type": "execute_result"
    }
   ],
   "source": [
    "# this is just reformatting to extracting the right values\n",
    "df.columns = [col.split(\".\")[0] for col in df.columns]\n",
    "df = df.set_index([\"test_split_name\", \"aug_name\"], drop=True)\n",
    "df.columns = pd.MultiIndex.from_arrays([df.columns, df.iloc[0].values])\n",
    "df = df.loc[[\"test-script\", \"test-human\"]].droplevel(1, axis=0).astype(float).round(2)\n",
    "\n",
    "df[\"acc\"].T.loc[[\"mean\", \"ci95\"]]"
   ]
  }
 ],
 "metadata": {
  "kernelspec": {
   "display_name": "Python 3 (ipykernel)",
   "language": "python",
   "name": "python3"
  },
  "language_info": {
   "codemirror_mode": {
    "name": "ipython",
    "version": 3
   },
   "file_extension": ".py",
   "mimetype": "text/x-python",
   "name": "python",
   "nbconvert_exporter": "python",
   "pygments_lexer": "ipython3",
   "version": "3.10.11"
  }
 },
 "nbformat": 4,
 "nbformat_minor": 5
}
