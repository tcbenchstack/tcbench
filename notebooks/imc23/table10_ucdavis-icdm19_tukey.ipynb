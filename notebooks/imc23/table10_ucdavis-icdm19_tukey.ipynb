{
 "cells": [
  {
   "cell_type": "markdown",
   "id": "c569b1ee-73f2-43fe-b586-53e9f80d0da0",
   "metadata": {},
   "source": [
    "# Table 10: Performance comparison across augmentations for different flowpic sizes."
   ]
  },
  {
   "cell_type": "markdown",
   "id": "adfed3d2-da38-4130-9156-abc2b0442901",
   "metadata": {},
   "source": [
    "[:simple-jupyter: :material-download:](../../paper_tables_and_figures/table10_ucdavis-icdm19_tukey/table10_ucdavis-icdm19_tukey.ipynb)"
   ]
  },
  {
   "cell_type": "code",
   "execution_count": 4,
   "id": "679dd17a-5d90-46b4-9d25-f9aaa8c923a7",
   "metadata": {
    "execution": {
     "iopub.execute_input": "2023-09-07T09:12:27.810182Z",
     "iopub.status.busy": "2023-09-07T09:12:27.809816Z",
     "iopub.status.idle": "2023-09-07T09:12:27.814241Z",
     "shell.execute_reply": "2023-09-07T09:12:27.813515Z",
     "shell.execute_reply.started": "2023-09-07T09:12:27.810154Z"
    }
   },
   "outputs": [],
   "source": [
    "import pathlib\n",
    "\n",
    "import numpy as np\n",
    "import pandas as pd\n",
    "from scipy.stats import tukey_hsd"
   ]
  },
  {
   "cell_type": "code",
   "execution_count": 5,
   "id": "ed9d0060-6682-4425-8559-db0ff88a6e4d",
   "metadata": {
    "execution": {
     "iopub.execute_input": "2023-09-07T09:13:16.658346Z",
     "iopub.status.busy": "2023-09-07T09:13:16.657926Z",
     "iopub.status.idle": "2023-09-07T09:13:16.700364Z",
     "shell.execute_reply": "2023-09-07T09:13:16.699510Z",
     "shell.execute_reply.started": "2023-09-07T09:13:16.658315Z"
    }
   },
   "outputs": [],
   "source": [
    "folder = pathlib.Path(\n",
    "    \"campaigns/ucdavis-icdm19/augmentation-at-loading-with-dropout/campaign_summary/augment-at-loading-with-dropout\"\n",
    ")\n",
    "df = pd.concat(\n",
    "    (\n",
    "        pd.read_parquet(folder / \"runsinfo_flowpic_dim_1500.parquet\"),\n",
    "        pd.read_parquet(folder / \"runsinfo_flowpic_dim_64.parquet\"),\n",
    "        pd.read_parquet(folder / \"runsinfo_flowpic_dim_32.parquet\"),\n",
    "    )\n",
    ")"
   ]
  },
  {
   "cell_type": "code",
   "execution_count": 6,
   "id": "61554a9d-69e2-4f00-834a-c758040748a6",
   "metadata": {
    "execution": {
     "iopub.execute_input": "2023-09-07T09:13:20.103720Z",
     "iopub.status.busy": "2023-09-07T09:13:20.103332Z",
     "iopub.status.idle": "2023-09-07T09:13:20.107270Z",
     "shell.execute_reply": "2023-09-07T09:13:20.106529Z",
     "shell.execute_reply.started": "2023-09-07T09:13:20.103690Z"
    }
   },
   "outputs": [],
   "source": [
    "# df = pd.read_parquet('campaigns/ucdavis-icdm19/augmentation-at-loading-with-dropout/campaign_summary/1684447037/merged_runsinfo.parquet')"
   ]
  },
  {
   "cell_type": "code",
   "execution_count": 7,
   "id": "5edfc258-52fd-413d-b8f5-d8225af2beba",
   "metadata": {
    "execution": {
     "iopub.execute_input": "2023-09-07T09:13:21.135527Z",
     "iopub.status.busy": "2023-09-07T09:13:21.135195Z",
     "iopub.status.idle": "2023-09-07T09:13:21.146012Z",
     "shell.execute_reply": "2023-09-07T09:13:21.145228Z",
     "shell.execute_reply.started": "2023-09-07T09:13:21.135500Z"
    }
   },
   "outputs": [],
   "source": [
    "df_script = df[df[\"test_split_name\"] == \"test-script\"]\n",
    "\n",
    "acc_32 = df_script[df_script[\"flowpic_dim\"] == 32][\"acc\"].values.tolist()\n",
    "acc_64 = df_script[df_script[\"flowpic_dim\"] == 64][\"acc\"].values.tolist()\n",
    "acc_1500 = df_script[df_script[\"flowpic_dim\"] == 1500][\"acc\"].values.tolist()"
   ]
  },
  {
   "cell_type": "code",
   "execution_count": 8,
   "id": "87f0ab23-c732-4c04-93f1-6f5125ea7e3e",
   "metadata": {
    "execution": {
     "iopub.execute_input": "2023-09-07T09:13:23.089542Z",
     "iopub.status.busy": "2023-09-07T09:13:23.089199Z",
     "iopub.status.idle": "2023-09-07T09:13:23.314798Z",
     "shell.execute_reply": "2023-09-07T09:13:23.314018Z",
     "shell.execute_reply.started": "2023-09-07T09:13:23.089515Z"
    }
   },
   "outputs": [],
   "source": [
    "res = tukey_hsd(acc_32, acc_64, acc_1500)"
   ]
  },
  {
   "cell_type": "code",
   "execution_count": 9,
   "id": "ba4a23f0-43e4-4f67-ad66-1391f99c71b1",
   "metadata": {
    "execution": {
     "iopub.execute_input": "2023-09-07T09:13:24.267772Z",
     "iopub.status.busy": "2023-09-07T09:13:24.267441Z",
     "iopub.status.idle": "2023-09-07T09:13:24.275929Z",
     "shell.execute_reply": "2023-09-07T09:13:24.275179Z",
     "shell.execute_reply.started": "2023-09-07T09:13:24.267745Z"
    }
   },
   "outputs": [],
   "source": [
    "df = pd.DataFrame(\n",
    "    np.array([res.pvalue[0, 1], res.pvalue[0, 2], res.pvalue[1, 2]]).reshape(-1, 1),\n",
    "    columns=[\"pvalue\"],\n",
    "    index=pd.MultiIndex.from_arrays(\n",
    "        [(\"32x32\", \"32x32\", \"64x64\"), (\"64x64\", \"1500x1500\", \"1500x1500\")]\n",
    "    ),\n",
    ")\n",
    "df = df.assign(is_different=df[\"pvalue\"] < 0.05)"
   ]
  },
  {
   "cell_type": "code",
   "execution_count": 10,
   "id": "8c2549dc-3046-4767-b0ea-52d206f53233",
   "metadata": {
    "execution": {
     "iopub.execute_input": "2023-09-07T09:13:24.975391Z",
     "iopub.status.busy": "2023-09-07T09:13:24.975056Z",
     "iopub.status.idle": "2023-09-07T09:13:24.990209Z",
     "shell.execute_reply": "2023-09-07T09:13:24.989458Z",
     "shell.execute_reply.started": "2023-09-07T09:13:24.975364Z"
    }
   },
   "outputs": [
    {
     "data": {
      "text/html": [
       "<div>\n",
       "<style scoped>\n",
       "    .dataframe tbody tr th:only-of-type {\n",
       "        vertical-align: middle;\n",
       "    }\n",
       "\n",
       "    .dataframe tbody tr th {\n",
       "        vertical-align: top;\n",
       "    }\n",
       "\n",
       "    .dataframe thead th {\n",
       "        text-align: right;\n",
       "    }\n",
       "</style>\n",
       "<table border=\"1\" class=\"dataframe\">\n",
       "  <thead>\n",
       "    <tr style=\"text-align: right;\">\n",
       "      <th></th>\n",
       "      <th></th>\n",
       "      <th>pvalue</th>\n",
       "      <th>is_different</th>\n",
       "    </tr>\n",
       "  </thead>\n",
       "  <tbody>\n",
       "    <tr>\n",
       "      <th rowspan=\"2\" valign=\"top\">32x32</th>\n",
       "      <th>64x64</th>\n",
       "      <td>5.772842e-01</td>\n",
       "      <td>False</td>\n",
       "    </tr>\n",
       "    <tr>\n",
       "      <th>1500x1500</th>\n",
       "      <td>1.936038e-06</td>\n",
       "      <td>True</td>\n",
       "    </tr>\n",
       "    <tr>\n",
       "      <th>64x64</th>\n",
       "      <th>1500x1500</th>\n",
       "      <td>1.044272e-08</td>\n",
       "      <td>True</td>\n",
       "    </tr>\n",
       "  </tbody>\n",
       "</table>\n",
       "</div>"
      ],
      "text/plain": [
       "                       pvalue  is_different\n",
       "32x32 64x64      5.772842e-01         False\n",
       "      1500x1500  1.936038e-06          True\n",
       "64x64 1500x1500  1.044272e-08          True"
      ]
     },
     "execution_count": 10,
     "metadata": {},
     "output_type": "execute_result"
    }
   ],
   "source": [
    "df"
   ]
  }
 ],
 "metadata": {
  "kernelspec": {
   "display_name": "Python 3 (ipykernel)",
   "language": "python",
   "name": "python3"
  },
  "language_info": {
   "codemirror_mode": {
    "name": "ipython",
    "version": 3
   },
   "file_extension": ".py",
   "mimetype": "text/x-python",
   "name": "python",
   "nbconvert_exporter": "python",
   "pygments_lexer": "ipython3",
   "version": "3.10.11"
  }
 },
 "nbformat": 4,
 "nbformat_minor": 5
}
