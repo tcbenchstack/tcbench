{
 "cells": [
  {
   "cell_type": "markdown",
   "metadata": {},
   "source": [
    "# Table 7: Accuracy on 32x32 flowpic when enlargin training set (w/o Dropout)"
   ]
  },
  {
   "cell_type": "markdown",
   "metadata": {},
   "source": [
    "[:simple-jupyter: :material-download:](../../paper_tables_and_figures/table7_simclr_larger_trainset/table7_simclr_larger_trainset.ipynb)"
   ]
  },
  {
   "cell_type": "code",
   "execution_count": 1,
   "metadata": {
    "execution": {
     "iopub.execute_input": "2023-09-04T06:53:14.186896Z",
     "iopub.status.busy": "2023-09-04T06:53:14.186585Z",
     "iopub.status.idle": "2023-09-04T06:53:14.789652Z",
     "shell.execute_reply": "2023-09-04T06:53:14.788718Z",
     "shell.execute_reply.started": "2023-09-04T06:53:14.186863Z"
    }
   },
   "outputs": [],
   "source": [
    "import itertools\n",
    "import pathlib\n",
    "\n",
    "import pandas as pd"
   ]
  },
  {
   "cell_type": "code",
   "execution_count": 2,
   "metadata": {
    "execution": {
     "iopub.execute_input": "2023-09-04T06:53:14.792072Z",
     "iopub.status.busy": "2023-09-04T06:53:14.791365Z",
     "iopub.status.idle": "2023-09-04T06:53:14.796485Z",
     "shell.execute_reply": "2023-09-04T06:53:14.795676Z",
     "shell.execute_reply.started": "2023-09-04T06:53:14.792042Z"
    }
   },
   "outputs": [],
   "source": [
    "RENAME = {\n",
    "    \"noaug\": \"No augmentation\",\n",
    "    \"rotate\": \"Rotate\",\n",
    "    \"horizontalflip\": \"Horizontal flip\",\n",
    "    \"colorjitter\": \"Color jitter\",\n",
    "    \"packetloss\": \"Packet loss\",\n",
    "    \"timeshift\": \"Time shift\",\n",
    "    \"changertt\": \"Change RTT\",\n",
    "}"
   ]
  },
  {
   "cell_type": "code",
   "execution_count": 3,
   "metadata": {
    "execution": {
     "iopub.execute_input": "2023-09-04T06:53:14.798154Z",
     "iopub.status.busy": "2023-09-04T06:53:14.797600Z",
     "iopub.status.idle": "2023-09-04T06:53:14.805540Z",
     "shell.execute_reply": "2023-09-04T06:53:14.804735Z",
     "shell.execute_reply.started": "2023-09-04T06:53:14.798125Z"
    }
   },
   "outputs": [],
   "source": [
    "folder = pathlib.Path(\"campaigns/ucdavis-icdm19/larger-trainset/\")"
   ]
  },
  {
   "cell_type": "code",
   "execution_count": 4,
   "metadata": {
    "execution": {
     "iopub.execute_input": "2023-09-04T06:53:14.807977Z",
     "iopub.status.busy": "2023-09-04T06:53:14.807348Z",
     "iopub.status.idle": "2023-09-04T06:53:14.859944Z",
     "shell.execute_reply": "2023-09-04T06:53:14.859088Z",
     "shell.execute_reply.started": "2023-09-04T06:53:14.807947Z"
    }
   },
   "outputs": [
    {
     "data": {
      "text/html": [
       "<div>\n",
       "<style scoped>\n",
       "    .dataframe tbody tr th:only-of-type {\n",
       "        vertical-align: middle;\n",
       "    }\n",
       "\n",
       "    .dataframe tbody tr th {\n",
       "        vertical-align: top;\n",
       "    }\n",
       "\n",
       "    .dataframe thead tr th {\n",
       "        text-align: left;\n",
       "    }\n",
       "\n",
       "    .dataframe thead tr:last-of-type th {\n",
       "        text-align: right;\n",
       "    }\n",
       "</style>\n",
       "<table border=\"1\" class=\"dataframe\">\n",
       "  <thead>\n",
       "    <tr>\n",
       "      <th></th>\n",
       "      <th colspan=\"2\" halign=\"left\">test-script</th>\n",
       "      <th colspan=\"2\" halign=\"left\">test-human</th>\n",
       "    </tr>\n",
       "    <tr>\n",
       "      <th></th>\n",
       "      <th>mean</th>\n",
       "      <th>ci95</th>\n",
       "      <th>mean</th>\n",
       "      <th>ci95</th>\n",
       "    </tr>\n",
       "    <tr>\n",
       "      <th></th>\n",
       "      <th></th>\n",
       "      <th></th>\n",
       "      <th></th>\n",
       "      <th></th>\n",
       "    </tr>\n",
       "  </thead>\n",
       "  <tbody>\n",
       "    <tr>\n",
       "      <th>No augmentation</th>\n",
       "      <td>98.37</td>\n",
       "      <td>0.19</td>\n",
       "      <td>72.95</td>\n",
       "      <td>0.96</td>\n",
       "    </tr>\n",
       "    <tr>\n",
       "      <th>Rotate</th>\n",
       "      <td>98.47</td>\n",
       "      <td>0.25</td>\n",
       "      <td>73.73</td>\n",
       "      <td>1.09</td>\n",
       "    </tr>\n",
       "    <tr>\n",
       "      <th>Horizontal flip</th>\n",
       "      <td>98.20</td>\n",
       "      <td>0.15</td>\n",
       "      <td>74.58</td>\n",
       "      <td>1.16</td>\n",
       "    </tr>\n",
       "    <tr>\n",
       "      <th>Color jitter</th>\n",
       "      <td>98.63</td>\n",
       "      <td>0.21</td>\n",
       "      <td>72.47</td>\n",
       "      <td>1.02</td>\n",
       "    </tr>\n",
       "    <tr>\n",
       "      <th>Packet loss</th>\n",
       "      <td>98.63</td>\n",
       "      <td>0.19</td>\n",
       "      <td>73.43</td>\n",
       "      <td>1.25</td>\n",
       "    </tr>\n",
       "    <tr>\n",
       "      <th>Time shift</th>\n",
       "      <td>98.60</td>\n",
       "      <td>0.22</td>\n",
       "      <td>73.25</td>\n",
       "      <td>1.17</td>\n",
       "    </tr>\n",
       "    <tr>\n",
       "      <th>Change RTT</th>\n",
       "      <td>98.33</td>\n",
       "      <td>0.16</td>\n",
       "      <td>72.47</td>\n",
       "      <td>1.04</td>\n",
       "    </tr>\n",
       "  </tbody>\n",
       "</table>\n",
       "</div>"
      ],
      "text/plain": [
       "                test-script       test-human      \n",
       "                       mean  ci95       mean  ci95\n",
       "                                                  \n",
       "No augmentation       98.37  0.19      72.95  0.96\n",
       "Rotate                98.47  0.25      73.73  1.09\n",
       "Horizontal flip       98.20  0.15      74.58  1.16\n",
       "Color jitter          98.63  0.21      72.47  1.02\n",
       "Packet loss           98.63  0.19      73.43  1.25\n",
       "Time shift            98.60  0.22      73.25  1.17\n",
       "Change RTT            98.33  0.16      72.47  1.04"
      ]
     },
     "execution_count": 4,
     "metadata": {},
     "output_type": "execute_result"
    }
   ],
   "source": [
    "df_sup = pd.read_csv(\n",
    "    folder\n",
    "    / \"augmentation-at-loading/campaign_summary/augment-at-loading-larger-trainset/summary_flowpic_dim_32.csv\",\n",
    "    header=[0, 1],\n",
    "    index_col=[0, 1],\n",
    ")\n",
    "df_sup = df_sup[\"acc\"][[\"mean\", \"ci95\"]]\n",
    "df_sup.index.set_names([\"test_split_name\", \"aug_name\"], inplace=True)\n",
    "df_sup = df_sup.reset_index().pivot(\n",
    "    columns=[\"test_split_name\"], index=\"aug_name\", values=[\"mean\", \"ci95\"]\n",
    ")\n",
    "df_sup.columns.set_names([\"stat\", \"test_split_name\"], inplace=True)\n",
    "df_sup = df_sup.reorder_levels([\"test_split_name\", \"stat\"], axis=1)\n",
    "df_sup = df_sup[\n",
    "    list(itertools.product([\"test-script\", \"test-human\"], [\"mean\", \"ci95\"]))\n",
    "]\n",
    "df_sup = df_sup.rename(RENAME, axis=0).rename(RENAME, axis=1)\n",
    "df_sup.index.set_names([\"\"], inplace=True)\n",
    "df_sup.columns.set_names([\"\", \"\"], inplace=True)\n",
    "df_sup = df_sup.round(2)\n",
    "df_sup = df_sup.loc[list(RENAME.values())]\n",
    "df_sup.to_csv(\"table7_larger-trainset_augment-at-loading.csv\")\n",
    "df_sup"
   ]
  },
  {
   "cell_type": "code",
   "execution_count": 6,
   "metadata": {
    "execution": {
     "iopub.execute_input": "2023-09-04T06:59:05.568896Z",
     "iopub.status.busy": "2023-09-04T06:59:05.568520Z",
     "iopub.status.idle": "2023-09-04T06:59:05.589545Z",
     "shell.execute_reply": "2023-09-04T06:59:05.588775Z",
     "shell.execute_reply.started": "2023-09-04T06:59:05.568865Z"
    }
   },
   "outputs": [
    {
     "data": {
      "text/html": [
       "<div>\n",
       "<style scoped>\n",
       "    .dataframe tbody tr th:only-of-type {\n",
       "        vertical-align: middle;\n",
       "    }\n",
       "\n",
       "    .dataframe tbody tr th {\n",
       "        vertical-align: top;\n",
       "    }\n",
       "\n",
       "    .dataframe thead th {\n",
       "        text-align: right;\n",
       "    }\n",
       "</style>\n",
       "<table border=\"1\" class=\"dataframe\">\n",
       "  <thead>\n",
       "    <tr style=\"text-align: right;\">\n",
       "      <th></th>\n",
       "      <th>mean</th>\n",
       "      <th>ci95</th>\n",
       "    </tr>\n",
       "  </thead>\n",
       "  <tbody>\n",
       "    <tr>\n",
       "      <th>test-script</th>\n",
       "      <td>93.90</td>\n",
       "      <td>0.74</td>\n",
       "    </tr>\n",
       "    <tr>\n",
       "      <th>test-human</th>\n",
       "      <td>80.45</td>\n",
       "      <td>2.37</td>\n",
       "    </tr>\n",
       "  </tbody>\n",
       "</table>\n",
       "</div>"
      ],
      "text/plain": [
       "              mean  ci95\n",
       "test-script  93.90  0.74\n",
       "test-human   80.45  2.37"
      ]
     },
     "execution_count": 6,
     "metadata": {},
     "output_type": "execute_result"
    }
   ],
   "source": [
    "df_cl = pd.read_csv(\n",
    "    folder\n",
    "    / \"simclr/campaign_summary/simclr-larger-trainset/summary_flowpic_dim_32.csv\",\n",
    "    header=[0, 1],\n",
    "    index_col=[0, 1],\n",
    ")\n",
    "df_cl = df_cl[\"acc\"][[\"mean\", \"ci95\"]]\n",
    "df_cl = df_cl.droplevel(1, axis=0).round(2)\n",
    "df_cl = df_cl.loc[[\"test-script\", \"test-human\"]]\n",
    "df_cl.to_csv(\"table7_larger-trainset_simclr.csv\")\n",
    "df_cl"
   ]
  }
 ],
 "metadata": {
  "kernelspec": {
   "display_name": "Python 3 (ipykernel)",
   "language": "python",
   "name": "python3"
  },
  "language_info": {
   "codemirror_mode": {
    "name": "ipython",
    "version": 3
   },
   "file_extension": ".py",
   "mimetype": "text/x-python",
   "name": "python",
   "nbconvert_exporter": "python",
   "pygments_lexer": "ipython3",
   "version": "3.10.11"
  }
 },
 "nbformat": 4,
 "nbformat_minor": 4
}
