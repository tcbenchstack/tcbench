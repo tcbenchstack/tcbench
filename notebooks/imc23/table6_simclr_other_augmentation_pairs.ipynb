{
 "cells": [
  {
   "cell_type": "markdown",
   "id": "b14e3234-1100-4d97-9fef-52005d919c3e",
   "metadata": {},
   "source": [
    "# Table 6: Comparing the fine-tuning performance when using different pairs of augmentation for pretraining."
   ]
  },
  {
   "cell_type": "markdown",
   "id": "043e20bd-3518-42f6-a92b-757585d20452",
   "metadata": {},
   "source": [
    "[:simple-jupyter: :material-download:](../../paper_tables_and_figures/table6_simclr_other_augmentation_pairs/table6_simclr_other_augmentation_pairs.ipynb)"
   ]
  },
  {
   "cell_type": "code",
   "execution_count": 70,
   "id": "9f641b1e-6e94-4f91-a7a8-0932719867b8",
   "metadata": {
    "execution": {
     "iopub.execute_input": "2023-09-03T17:42:03.032212Z",
     "iopub.status.busy": "2023-09-03T17:42:03.031876Z",
     "iopub.status.idle": "2023-09-03T17:42:03.035839Z",
     "shell.execute_reply": "2023-09-03T17:42:03.035140Z",
     "shell.execute_reply.started": "2023-09-03T17:42:03.032184Z"
    }
   },
   "outputs": [],
   "source": [
    "import itertools\n",
    "\n",
    "import pandas as pd"
   ]
  },
  {
   "cell_type": "code",
   "execution_count": 71,
   "id": "bfbbf76e-f025-4492-8a47-c834749f00db",
   "metadata": {
    "execution": {
     "iopub.execute_input": "2023-09-03T17:42:03.512283Z",
     "iopub.status.busy": "2023-09-03T17:42:03.511964Z",
     "iopub.status.idle": "2023-09-03T17:42:03.516151Z",
     "shell.execute_reply": "2023-09-03T17:42:03.515455Z",
     "shell.execute_reply.started": "2023-09-03T17:42:03.512255Z"
    }
   },
   "outputs": [],
   "source": [
    "RENAME = {\n",
    "    \"colorjitter\": \"Color jitter\",\n",
    "    \"timeshift\": \"Time shift\",\n",
    "    \"changertt\": \"Change RTT\",\n",
    "    \"rotate\": \"Rotate\",\n",
    "    \"packetloss\": \"Packet loss\",\n",
    "}"
   ]
  },
  {
   "cell_type": "code",
   "execution_count": 72,
   "id": "091cf191-0c51-4479-be80-52e2efa03716",
   "metadata": {
    "execution": {
     "iopub.execute_input": "2023-09-03T17:42:04.610085Z",
     "iopub.status.busy": "2023-09-03T17:42:04.609769Z",
     "iopub.status.idle": "2023-09-03T17:42:04.668791Z",
     "shell.execute_reply": "2023-09-03T17:42:04.668048Z",
     "shell.execute_reply.started": "2023-09-03T17:42:04.610058Z"
    }
   },
   "outputs": [
    {
     "data": {
      "text/html": [
       "<div>\n",
       "<style scoped>\n",
       "    .dataframe tbody tr th:only-of-type {\n",
       "        vertical-align: middle;\n",
       "    }\n",
       "\n",
       "    .dataframe tbody tr th {\n",
       "        vertical-align: top;\n",
       "    }\n",
       "\n",
       "    .dataframe thead tr th {\n",
       "        text-align: left;\n",
       "    }\n",
       "</style>\n",
       "<table border=\"1\" class=\"dataframe\">\n",
       "  <thead>\n",
       "    <tr>\n",
       "      <th></th>\n",
       "      <th colspan=\"2\" halign=\"left\">Change RTT</th>\n",
       "      <th colspan=\"4\" halign=\"left\">Packet loss</th>\n",
       "      <th colspan=\"4\" halign=\"left\">Change RTT</th>\n",
       "      <th colspan=\"2\" halign=\"left\">Color jitter</th>\n",
       "    </tr>\n",
       "    <tr>\n",
       "      <th></th>\n",
       "      <th colspan=\"2\" halign=\"left\">Time shift</th>\n",
       "      <th colspan=\"2\" halign=\"left\">Color jitter</th>\n",
       "      <th colspan=\"2\" halign=\"left\">Rotate</th>\n",
       "      <th colspan=\"2\" halign=\"left\">Color jitter</th>\n",
       "      <th colspan=\"2\" halign=\"left\">Rotate</th>\n",
       "      <th colspan=\"2\" halign=\"left\">Rotate</th>\n",
       "    </tr>\n",
       "    <tr>\n",
       "      <th></th>\n",
       "      <th>mean</th>\n",
       "      <th>ci95</th>\n",
       "      <th>mean</th>\n",
       "      <th>ci95</th>\n",
       "      <th>mean</th>\n",
       "      <th>ci95</th>\n",
       "      <th>mean</th>\n",
       "      <th>ci95</th>\n",
       "      <th>mean</th>\n",
       "      <th>ci95</th>\n",
       "      <th>mean</th>\n",
       "      <th>ci95</th>\n",
       "    </tr>\n",
       "  </thead>\n",
       "  <tbody>\n",
       "    <tr>\n",
       "      <th>test-script</th>\n",
       "      <td>92.18</td>\n",
       "      <td>0.31</td>\n",
       "      <td>90.17</td>\n",
       "      <td>0.41</td>\n",
       "      <td>91.94</td>\n",
       "      <td>0.3</td>\n",
       "      <td>91.72</td>\n",
       "      <td>0.36</td>\n",
       "      <td>92.38</td>\n",
       "      <td>0.32</td>\n",
       "      <td>91.79</td>\n",
       "      <td>0.34</td>\n",
       "    </tr>\n",
       "    <tr>\n",
       "      <th>test-human</th>\n",
       "      <td>74.69</td>\n",
       "      <td>1.13</td>\n",
       "      <td>73.67</td>\n",
       "      <td>1.24</td>\n",
       "      <td>71.22</td>\n",
       "      <td>1.2</td>\n",
       "      <td>75.56</td>\n",
       "      <td>1.23</td>\n",
       "      <td>74.33</td>\n",
       "      <td>1.26</td>\n",
       "      <td>71.64</td>\n",
       "      <td>1.23</td>\n",
       "    </tr>\n",
       "  </tbody>\n",
       "</table>\n",
       "</div>"
      ],
      "text/plain": [
       "            Change RTT        Packet loss                     Change RTT  \\\n",
       "            Time shift       Color jitter       Rotate      Color jitter   \n",
       "                  mean  ci95         mean  ci95   mean ci95         mean   \n",
       "test-script      92.18  0.31        90.17  0.41  91.94  0.3        91.72   \n",
       "test-human       74.69  1.13        73.67  1.24  71.22  1.2        75.56   \n",
       "\n",
       "                               Color jitter        \n",
       "                  Rotate             Rotate        \n",
       "             ci95   mean  ci95         mean  ci95  \n",
       "test-script  0.36  92.38  0.32        91.79  0.34  \n",
       "test-human   1.23  74.33  1.26        71.64  1.23  "
      ]
     },
     "execution_count": 72,
     "metadata": {},
     "output_type": "execute_result"
    }
   ],
   "source": [
    "df = pd.read_csv(\n",
    "    \"./campaigns/ucdavis-icdm19/simclr-other-augmentation-pairs/campaign_summary/simclr-other-augmentation-pairs/summary_flowpic_dim_32.csv\",\n",
    "    header=[0, 1],\n",
    "    index_col=[0, 1],\n",
    ")\n",
    "\n",
    "df = df[\"acc\"][[\"mean\", \"ci95\"]].round(2)\n",
    "df = df.reset_index()\n",
    "df = df.assign(\n",
    "    aug1=df[\"level_1\"].apply(eval).str[0],\n",
    "    aug2=df[\"level_1\"].apply(eval).str[1],\n",
    ")\n",
    "df = df.drop(\"level_1\", axis=1)\n",
    "df = df.rename({\"level_0\": \"test_split_name\"}, axis=1)\n",
    "df = df.replace(RENAME)\n",
    "df = df.pivot(index=\"test_split_name\", columns=[\"aug1\", \"aug2\"])\n",
    "df.columns.set_names([\"stat\", \"aug1\", \"aug2\"], inplace=True)\n",
    "df = df.reorder_levels([\"aug1\", \"aug2\", \"stat\"], axis=1)\n",
    "df.columns.set_names([\"\", \"\", \"\"], inplace=True)\n",
    "df.index.name = None\n",
    "\n",
    "df = df[\n",
    "    list(itertools.product([\"Change RTT\"], [\"Time shift\"], [\"mean\", \"ci95\"]))\n",
    "    + list(\n",
    "        itertools.product([\"Packet loss\"], [\"Color jitter\", \"Rotate\"], [\"mean\", \"ci95\"])\n",
    "    )\n",
    "    + list(\n",
    "        itertools.product([\"Change RTT\"], [\"Color jitter\", \"Rotate\"], [\"mean\", \"ci95\"])\n",
    "    )\n",
    "    + list(itertools.product([\"Color jitter\"], [\"Rotate\"], [\"mean\", \"ci95\"]))\n",
    "]\n",
    "df = df.loc[[\"test-script\", \"test-human\"]]\n",
    "\n",
    "df.to_csv(\"table5_simclr_other_augmentation_pairs.csv\")\n",
    "df"
   ]
  }
 ],
 "metadata": {
  "kernelspec": {
   "display_name": "Python 3 (ipykernel)",
   "language": "python",
   "name": "python3"
  },
  "language_info": {
   "codemirror_mode": {
    "name": "ipython",
    "version": 3
   },
   "file_extension": ".py",
   "mimetype": "text/x-python",
   "name": "python",
   "nbconvert_exporter": "python",
   "pygments_lexer": "ipython3",
   "version": "3.10.11"
  }
 },
 "nbformat": 4,
 "nbformat_minor": 5
}
