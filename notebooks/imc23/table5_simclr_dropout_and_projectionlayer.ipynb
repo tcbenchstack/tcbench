{
 "cells": [
  {
   "cell_type": "markdown",
   "id": "ad8f98cc-cfbe-44a0-8647-1b8e1c03e155",
   "metadata": {},
   "source": [
    "# Table 5: Impact of dropout and SimCLR projection layer dimension on fine-tuning."
   ]
  },
  {
   "cell_type": "markdown",
   "id": "e144e428-24bb-49be-8922-dbfb32c82b87",
   "metadata": {},
   "source": [
    "[:simple-jupyter: :material-download:](../../paper_tables_and_figures/table5_simclr_dropout_and_projectionlayer/table5_simclr_dropout_and_projectionlayer.ipynb)"
   ]
  },
  {
   "cell_type": "code",
   "execution_count": 1,
   "id": "b9cca11a-762b-4026-9fc8-8f26af55b505",
   "metadata": {
    "execution": {
     "iopub.execute_input": "2023-09-06T08:47:15.334789Z",
     "iopub.status.busy": "2023-09-06T08:47:15.334383Z",
     "iopub.status.idle": "2023-09-06T08:47:15.941593Z",
     "shell.execute_reply": "2023-09-06T08:47:15.940756Z",
     "shell.execute_reply.started": "2023-09-06T08:47:15.334750Z"
    }
   },
   "outputs": [],
   "source": [
    "import itertools\n",
    "\n",
    "import pandas as pd"
   ]
  },
  {
   "cell_type": "code",
   "execution_count": 2,
   "id": "38516764-ff7d-48f1-8d81-5618593e0ce2",
   "metadata": {
    "execution": {
     "iopub.execute_input": "2023-09-06T08:47:16.630955Z",
     "iopub.status.busy": "2023-09-06T08:47:16.630419Z",
     "iopub.status.idle": "2023-09-06T08:47:16.678925Z",
     "shell.execute_reply": "2023-09-06T08:47:16.678169Z",
     "shell.execute_reply.started": "2023-09-06T08:47:16.630923Z"
    }
   },
   "outputs": [
    {
     "data": {
      "text/html": [
       "<div>\n",
       "<style scoped>\n",
       "    .dataframe tbody tr th:only-of-type {\n",
       "        vertical-align: middle;\n",
       "    }\n",
       "\n",
       "    .dataframe tbody tr th {\n",
       "        vertical-align: top;\n",
       "    }\n",
       "\n",
       "    .dataframe thead tr th {\n",
       "        text-align: left;\n",
       "    }\n",
       "</style>\n",
       "<table border=\"1\" class=\"dataframe\">\n",
       "  <thead>\n",
       "    <tr>\n",
       "      <th>test_split_name</th>\n",
       "      <th colspan=\"4\" halign=\"left\">test-script</th>\n",
       "      <th colspan=\"4\" halign=\"left\">test-human</th>\n",
       "    </tr>\n",
       "    <tr>\n",
       "      <th>with_dropout</th>\n",
       "      <th colspan=\"2\" halign=\"left\">True</th>\n",
       "      <th colspan=\"2\" halign=\"left\">False</th>\n",
       "      <th colspan=\"2\" halign=\"left\">True</th>\n",
       "      <th colspan=\"2\" halign=\"left\">False</th>\n",
       "    </tr>\n",
       "    <tr>\n",
       "      <th>projection_layer_dim</th>\n",
       "      <th>30</th>\n",
       "      <th>84</th>\n",
       "      <th>30</th>\n",
       "      <th>84</th>\n",
       "      <th>30</th>\n",
       "      <th>84</th>\n",
       "      <th>30</th>\n",
       "      <th>84</th>\n",
       "    </tr>\n",
       "  </thead>\n",
       "  <tbody>\n",
       "    <tr>\n",
       "      <th>mean</th>\n",
       "      <td>91.81</td>\n",
       "      <td>92.02</td>\n",
       "      <td>92.18</td>\n",
       "      <td>92.54</td>\n",
       "      <td>72.12</td>\n",
       "      <td>73.31</td>\n",
       "      <td>74.69</td>\n",
       "      <td>74.35</td>\n",
       "    </tr>\n",
       "    <tr>\n",
       "      <th>ci95</th>\n",
       "      <td>0.38</td>\n",
       "      <td>0.36</td>\n",
       "      <td>0.31</td>\n",
       "      <td>0.33</td>\n",
       "      <td>1.37</td>\n",
       "      <td>1.04</td>\n",
       "      <td>1.13</td>\n",
       "      <td>1.38</td>\n",
       "    </tr>\n",
       "  </tbody>\n",
       "</table>\n",
       "</div>"
      ],
      "text/plain": [
       "test_split_name      test-script                      test-human         \\\n",
       "with_dropout               True          False             True           \n",
       "projection_layer_dim          30     84     30     84         30     84   \n",
       "mean                       91.81  92.02  92.18  92.54      72.12  73.31   \n",
       "ci95                        0.38   0.36   0.31   0.33       1.37   1.04   \n",
       "\n",
       "test_split_name                     \n",
       "with_dropout          False         \n",
       "projection_layer_dim     30     84  \n",
       "mean                  74.69  74.35  \n",
       "ci95                   1.13   1.38  "
      ]
     },
     "execution_count": 2,
     "metadata": {},
     "output_type": "execute_result"
    }
   ],
   "source": [
    "df = pd.read_csv(\n",
    "    \"campaigns/ucdavis-icdm19/simclr-dropout-and-projection/campaign_summary/simclr-dropout-and-projection/summary_flowpic_dim_32.csv\",\n",
    "    header=[0, 1],\n",
    "    index_col=[0, 1, 2],\n",
    ")\n",
    "\n",
    "df = df[\"acc\"][[\"mean\", \"ci95\"]]\n",
    "df = df.T\n",
    "df.columns.set_names(\"test_split_name\", level=0, inplace=True)\n",
    "df.columns.set_names(\"projection_layer_dim\", level=1, inplace=True)\n",
    "df.columns.set_names(\"with_dropout\", level=2, inplace=True)\n",
    "df = df.reorder_levels(\n",
    "    [\"test_split_name\", \"with_dropout\", \"projection_layer_dim\"], axis=1\n",
    ")\n",
    "\n",
    "df = df[list(itertools.product([\"test-script\", \"test-human\"], [True, False], [30, 84]))]\n",
    "df = df.round(2)\n",
    "\n",
    "df.to_csv(\"table5_simclr_dropout_and_projectionlayer.csv\")\n",
    "df"
   ]
  }
 ],
 "metadata": {
  "kernelspec": {
   "display_name": "Python 3 (ipykernel)",
   "language": "python",
   "name": "python3"
  },
  "language_info": {
   "codemirror_mode": {
    "name": "ipython",
    "version": 3
   },
   "file_extension": ".py",
   "mimetype": "text/x-python",
   "name": "python",
   "nbconvert_exporter": "python",
   "pygments_lexer": "ipython3",
   "version": "3.10.11"
  }
 },
 "nbformat": 4,
 "nbformat_minor": 5
}
