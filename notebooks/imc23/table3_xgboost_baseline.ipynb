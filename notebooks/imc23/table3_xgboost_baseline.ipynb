{
 "cells": [
  {
   "cell_type": "markdown",
   "id": "cb136e42-a75a-409e-8ba6-5a1ee99a9f19",
   "metadata": {},
   "source": [
    "# Table 3: (G0) Baseline ML performance without augmentation in a supervised setting."
   ]
  },
  {
   "cell_type": "markdown",
   "id": "9b090c5f-676b-475a-9a08-aa6a0c090e62",
   "metadata": {},
   "source": [
    "[:simple-jupyter: :material-download:](../../paper_tables_and_figures/table3_xgboost_baseline/table3_xgboost_baseline.ipynb)"
   ]
  },
  {
   "cell_type": "code",
   "execution_count": 1,
   "id": "ac648712-2965-4d5f-a5d2-336047291081",
   "metadata": {
    "execution": {
     "iopub.execute_input": "2023-08-31T08:14:09.069576Z",
     "iopub.status.busy": "2023-08-31T08:14:09.068953Z",
     "iopub.status.idle": "2023-08-31T08:14:09.622242Z",
     "shell.execute_reply": "2023-08-31T08:14:09.621303Z",
     "shell.execute_reply.started": "2023-08-31T08:14:09.069545Z"
    }
   },
   "outputs": [],
   "source": [
    "import pandas as pd"
   ]
  },
  {
   "cell_type": "code",
   "execution_count": 2,
   "id": "00ef47b6-5909-477a-895a-e34552b0cf07",
   "metadata": {
    "execution": {
     "iopub.execute_input": "2023-08-31T08:14:09.624455Z",
     "iopub.status.busy": "2023-08-31T08:14:09.623972Z",
     "iopub.status.idle": "2023-08-31T08:14:09.635019Z",
     "shell.execute_reply": "2023-08-31T08:14:09.634224Z",
     "shell.execute_reply.started": "2023-08-31T08:14:09.624426Z"
    }
   },
   "outputs": [],
   "source": [
    "df = pd.read_csv(\n",
    "    \"./campaigns/ucdavis-icdm19/xgboost/noaugmentation-flowpic/campaign_summary/noaugmentation-flowpic/summary_flowpic_dim_32.csv\",\n",
    "    header=[0, 1],\n",
    "    index_col=[0, 1],\n",
    ")"
   ]
  },
  {
   "cell_type": "code",
   "execution_count": 3,
   "id": "5caac679-8cf0-4ff2-be67-1aa94c407d4a",
   "metadata": {
    "execution": {
     "iopub.execute_input": "2023-08-31T08:14:09.636614Z",
     "iopub.status.busy": "2023-08-31T08:14:09.636333Z",
     "iopub.status.idle": "2023-08-31T08:14:09.659861Z",
     "shell.execute_reply": "2023-08-31T08:14:09.658940Z",
     "shell.execute_reply.started": "2023-08-31T08:14:09.636588Z"
    }
   },
   "outputs": [
    {
     "data": {
      "text/html": [
       "<div>\n",
       "<style scoped>\n",
       "    .dataframe tbody tr th:only-of-type {\n",
       "        vertical-align: middle;\n",
       "    }\n",
       "\n",
       "    .dataframe tbody tr th {\n",
       "        vertical-align: top;\n",
       "    }\n",
       "\n",
       "    .dataframe thead th {\n",
       "        text-align: right;\n",
       "    }\n",
       "</style>\n",
       "<table border=\"1\" class=\"dataframe\">\n",
       "  <thead>\n",
       "    <tr style=\"text-align: right;\">\n",
       "      <th></th>\n",
       "      <th>mean</th>\n",
       "      <th>ci95</th>\n",
       "    </tr>\n",
       "  </thead>\n",
       "  <tbody>\n",
       "    <tr>\n",
       "      <th>test-script</th>\n",
       "      <td>96.80</td>\n",
       "      <td>0.37</td>\n",
       "    </tr>\n",
       "    <tr>\n",
       "      <th>test-human</th>\n",
       "      <td>73.65</td>\n",
       "      <td>2.14</td>\n",
       "    </tr>\n",
       "  </tbody>\n",
       "</table>\n",
       "</div>"
      ],
      "text/plain": [
       "              mean  ci95\n",
       "test-script  96.80  0.37\n",
       "test-human   73.65  2.14"
      ]
     },
     "execution_count": 3,
     "metadata": {},
     "output_type": "execute_result"
    }
   ],
   "source": [
    "# reformatting\n",
    "df_tmp = df[\"acc\"][[\"mean\", \"ci95\"]].round(2)\n",
    "df_tmp.loc[[\"test-script\", \"test-human\"]].droplevel(1, axis=0).astype(float).round(2)"
   ]
  },
  {
   "cell_type": "code",
   "execution_count": 4,
   "id": "4baf0701-0fe3-4aa7-9a16-0dbb85d8cacc",
   "metadata": {
    "execution": {
     "iopub.execute_input": "2023-08-31T08:14:09.662640Z",
     "iopub.status.busy": "2023-08-31T08:14:09.661973Z",
     "iopub.status.idle": "2023-08-31T08:14:09.671308Z",
     "shell.execute_reply": "2023-08-31T08:14:09.670464Z",
     "shell.execute_reply.started": "2023-08-31T08:14:09.662607Z"
    }
   },
   "outputs": [],
   "source": [
    "df = pd.read_csv(\n",
    "    \"./campaigns/ucdavis-icdm19/xgboost/noaugmentation-timeseries/campaign_summary/noaugmentation-timeseries/summary_max_n_pkts_10.csv\",\n",
    "    header=[0, 1],\n",
    "    index_col=[0, 1],\n",
    ")"
   ]
  },
  {
   "cell_type": "code",
   "execution_count": 5,
   "id": "9175e156-f66d-4722-9880-f7770d69ab62",
   "metadata": {
    "execution": {
     "iopub.execute_input": "2023-08-31T08:14:09.673032Z",
     "iopub.status.busy": "2023-08-31T08:14:09.672523Z",
     "iopub.status.idle": "2023-08-31T08:14:09.688996Z",
     "shell.execute_reply": "2023-08-31T08:14:09.688168Z",
     "shell.execute_reply.started": "2023-08-31T08:14:09.672991Z"
    }
   },
   "outputs": [
    {
     "data": {
      "text/html": [
       "<div>\n",
       "<style scoped>\n",
       "    .dataframe tbody tr th:only-of-type {\n",
       "        vertical-align: middle;\n",
       "    }\n",
       "\n",
       "    .dataframe tbody tr th {\n",
       "        vertical-align: top;\n",
       "    }\n",
       "\n",
       "    .dataframe thead th {\n",
       "        text-align: right;\n",
       "    }\n",
       "</style>\n",
       "<table border=\"1\" class=\"dataframe\">\n",
       "  <thead>\n",
       "    <tr style=\"text-align: right;\">\n",
       "      <th></th>\n",
       "      <th>mean</th>\n",
       "      <th>ci95</th>\n",
       "    </tr>\n",
       "  </thead>\n",
       "  <tbody>\n",
       "    <tr>\n",
       "      <th>test-script</th>\n",
       "      <td>94.53</td>\n",
       "      <td>0.56</td>\n",
       "    </tr>\n",
       "    <tr>\n",
       "      <th>test-human</th>\n",
       "      <td>66.91</td>\n",
       "      <td>1.40</td>\n",
       "    </tr>\n",
       "  </tbody>\n",
       "</table>\n",
       "</div>"
      ],
      "text/plain": [
       "              mean  ci95\n",
       "test-script  94.53  0.56\n",
       "test-human   66.91  1.40"
      ]
     },
     "execution_count": 5,
     "metadata": {},
     "output_type": "execute_result"
    }
   ],
   "source": [
    "# reformatting\n",
    "df_tmp = df[\"acc\"][[\"mean\", \"ci95\"]].round(2)\n",
    "df_tmp.loc[[\"test-script\", \"test-human\"]].droplevel(1, axis=0).astype(float).round(2)"
   ]
  }
 ],
 "metadata": {
  "kernelspec": {
   "display_name": "Python 3 (ipykernel)",
   "language": "python",
   "name": "python3"
  },
  "language_info": {
   "codemirror_mode": {
    "name": "ipython",
    "version": 3
   },
   "file_extension": ".py",
   "mimetype": "text/x-python",
   "name": "python",
   "nbconvert_exporter": "python",
   "pygments_lexer": "ipython3",
   "version": "3.10.11"
  }
 },
 "nbformat": 4,
 "nbformat_minor": 5
}
