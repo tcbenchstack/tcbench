{
 "cells": [
  {
   "cell_type": "markdown",
   "id": "b14e3234-1100-4d97-9fef-52005d919c3e",
   "metadata": {},
   "source": [
    "# Table 5: Comparing the fine-tuning performance when using different pairs of augmentation for pretraining."
   ]
  },
  {
   "cell_type": "markdown",
   "id": "043e20bd-3518-42f6-a92b-757585d20452",
   "metadata": {},
   "source": [
    "[:simple-jupyter: :material-download:](../../paper_tables_and_figures/table5_simclr_other_augmentation_pairs/table5_simclr_other_augmentation_pairs.ipynb)"
   ]
  },
  {
   "cell_type": "code",
   "execution_count": 1,
   "id": "9f641b1e-6e94-4f91-a7a8-0932719867b8",
   "metadata": {},
   "outputs": [],
   "source": [
    "import pandas as pd"
   ]
  },
  {
   "cell_type": "code",
   "execution_count": 13,
   "id": "a246853a-a432-48f4-8616-df5882de12d9",
   "metadata": {},
   "outputs": [],
   "source": [
    "def load_summary_csv(fname, level1, level2):\n",
    "    df = (\n",
    "        pd.read_csv(fname)\n",
    "        .set_index(\"test_split_name\", drop=True)\n",
    "        .drop([\"with_dropout\", \"projection_layer_dim\", \"finetune_augmentation\"], axis=1)\n",
    "    )\n",
    "    df.columns = df.iloc[0].values\n",
    "    df = df.iloc[1:]\n",
    "    df = df[[\"mean\", \"ci95\"]].astype(float).round(2)\n",
    "    df.columns = pd.MultiIndex.from_arrays(\n",
    "        [[level1, level1], [level2, level2], df.columns.tolist()]\n",
    "    )\n",
    "    df = df.loc[[\"test-script\", \"test-human\"]]\n",
    "    df.index.name = None\n",
    "    return df"
   ]
  },
  {
   "cell_type": "code",
   "execution_count": 18,
   "id": "ee0e68b3-6314-4226-945b-647b300f320c",
   "metadata": {},
   "outputs": [
    {
     "data": {
      "text/html": [
       "<div>\n",
       "<style scoped>\n",
       "    .dataframe tbody tr th:only-of-type {\n",
       "        vertical-align: middle;\n",
       "    }\n",
       "\n",
       "    .dataframe tbody tr th {\n",
       "        vertical-align: top;\n",
       "    }\n",
       "\n",
       "    .dataframe thead tr th {\n",
       "        text-align: left;\n",
       "    }\n",
       "</style>\n",
       "<table border=\"1\" class=\"dataframe\">\n",
       "  <thead>\n",
       "    <tr>\n",
       "      <th></th>\n",
       "      <th colspan=\"4\" halign=\"left\">Packet loss</th>\n",
       "      <th colspan=\"4\" halign=\"left\">Change rtt</th>\n",
       "      <th colspan=\"2\" halign=\"left\">Color jitter</th>\n",
       "    </tr>\n",
       "    <tr>\n",
       "      <th></th>\n",
       "      <th colspan=\"2\" halign=\"left\">Color jitter</th>\n",
       "      <th colspan=\"2\" halign=\"left\">Rotate</th>\n",
       "      <th colspan=\"2\" halign=\"left\">Color jitter</th>\n",
       "      <th colspan=\"2\" halign=\"left\">Rotate</th>\n",
       "      <th colspan=\"2\" halign=\"left\">Rotate</th>\n",
       "    </tr>\n",
       "    <tr>\n",
       "      <th></th>\n",
       "      <th>mean</th>\n",
       "      <th>ci95</th>\n",
       "      <th>mean</th>\n",
       "      <th>ci95</th>\n",
       "      <th>mean</th>\n",
       "      <th>ci95</th>\n",
       "      <th>mean</th>\n",
       "      <th>ci95</th>\n",
       "      <th>mean</th>\n",
       "      <th>ci95</th>\n",
       "    </tr>\n",
       "  </thead>\n",
       "  <tbody>\n",
       "    <tr>\n",
       "      <th>test-script</th>\n",
       "      <td>89.87</td>\n",
       "      <td>0.37</td>\n",
       "      <td>91.79</td>\n",
       "      <td>0.28</td>\n",
       "      <td>91.42</td>\n",
       "      <td>0.36</td>\n",
       "      <td>92.56</td>\n",
       "      <td>0.32</td>\n",
       "      <td>91.79</td>\n",
       "      <td>0.33</td>\n",
       "    </tr>\n",
       "    <tr>\n",
       "      <th>test-human</th>\n",
       "      <td>73.84</td>\n",
       "      <td>1.25</td>\n",
       "      <td>71.56</td>\n",
       "      <td>1.21</td>\n",
       "      <td>74.59</td>\n",
       "      <td>1.10</td>\n",
       "      <td>73.43</td>\n",
       "      <td>1.35</td>\n",
       "      <td>70.93</td>\n",
       "      <td>1.18</td>\n",
       "    </tr>\n",
       "  </tbody>\n",
       "</table>\n",
       "</div>"
      ],
      "text/plain": [
       "             Packet loss                      Change rtt                     \\\n",
       "            Color jitter       Rotate       Color jitter       Rotate         \n",
       "                    mean  ci95   mean  ci95         mean  ci95   mean  ci95   \n",
       "test-script        89.87  0.37  91.79  0.28        91.42  0.36  92.56  0.32   \n",
       "test-human         73.84  1.25  71.56  1.21        74.59  1.10  73.43  1.35   \n",
       "\n",
       "            Color jitter        \n",
       "                  Rotate        \n",
       "                    mean  ci95  \n",
       "test-script        91.79  0.33  \n",
       "test-human         70.93  1.18  "
      ]
     },
     "execution_count": 18,
     "metadata": {},
     "output_type": "execute_result"
    }
   ],
   "source": [
    "pd.concat(\n",
    "    (\n",
    "        load_summary_csv(\n",
    "            \"campaigns/ucdavis-icdm19/simclr-other-augmentation-pairs/colorjitter-packetloss/campaign_summary/1684886215/summary_flowpic_dim_32.csv\",\n",
    "            level1=\"Packet loss\",\n",
    "            level2=\"Color jitter\",\n",
    "        ),\n",
    "        load_summary_csv(\n",
    "            \"campaigns/ucdavis-icdm19/simclr-other-augmentation-pairs/rotate-packetloss/campaign_summary/1684886215/summary_flowpic_dim_32.csv\",\n",
    "            level1=\"Packet loss\",\n",
    "            level2=\"Rotate\",\n",
    "        ),\n",
    "        load_summary_csv(\n",
    "            \"campaigns/ucdavis-icdm19/simclr-other-augmentation-pairs/colorjitter-changertt/campaign_summary/1684886215/summary_flowpic_dim_32.csv\",\n",
    "            level1=\"Change rtt\",\n",
    "            level2=\"Color jitter\",\n",
    "        ),\n",
    "        load_summary_csv(\n",
    "            \"campaigns/ucdavis-icdm19/simclr-other-augmentation-pairs/rotate-changertt/campaign_summary/1684886215/summary_flowpic_dim_32.csv\",\n",
    "            level1=\"Change rtt\",\n",
    "            level2=\"Rotate\",\n",
    "        ),\n",
    "        load_summary_csv(\n",
    "            \"campaigns/ucdavis-icdm19/simclr-other-augmentation-pairs/colorjitter-rotate/campaign_summary/1684886215/summary_flowpic_dim_32.csv\",\n",
    "            level1=\"Color jitter\",\n",
    "            level2=\"Rotate\",\n",
    "        ),\n",
    "    ),\n",
    "    axis=1,\n",
    ")"
   ]
  },
  {
   "cell_type": "markdown",
   "id": "d80a2cd1-3e2c-414f-bc48-90dccc10daea",
   "metadata": {},
   "source": [
    "The pair (\"Time shift\", \"Change rtt\") missing from the table is coming from Table4 results (see [:simple-jupyter: `table4_simclr_dropout_and_projectionlayer.ipynb`](../../paper_tables_and_figures/table4_simclr_dropout_and_projectionlayer/))"
   ]
  }
 ],
 "metadata": {
  "kernelspec": {
   "display_name": "Python 3 (ipykernel)",
   "language": "python",
   "name": "python3"
  },
  "language_info": {
   "codemirror_mode": {
    "name": "ipython",
    "version": 3
   },
   "file_extension": ".py",
   "mimetype": "text/x-python",
   "name": "python",
   "nbconvert_exporter": "python",
   "pygments_lexer": "ipython3",
   "version": "3.10.11"
  }
 },
 "nbformat": 4,
 "nbformat_minor": 5
}
