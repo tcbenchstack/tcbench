{
 "cells": [
  {
   "cell_type": "markdown",
   "id": "72bbdf33-ec72-4c35-9703-f184c70a085f",
   "metadata": {},
   "source": [
    "# Miscellaneous stats across the paper"
   ]
  },
  {
   "cell_type": "markdown",
   "id": "e9a74985-3ceb-4190-9ec7-bfbf0b4706f7",
   "metadata": {},
   "source": [
    "[:simple-jupyter: :material-download:](../../paper_tables_and_figures/miscellaneous_stats/miscellaneous_stats.ipynb)"
   ]
  },
  {
   "cell_type": "code",
   "execution_count": 56,
   "id": "79388a10-4c4d-4c9e-a6d4-3c2f6486df1e",
   "metadata": {
    "execution": {
     "iopub.execute_input": "2023-09-06T17:12:09.626322Z",
     "iopub.status.busy": "2023-09-06T17:12:09.625645Z",
     "iopub.status.idle": "2023-09-06T17:12:09.630500Z",
     "shell.execute_reply": "2023-09-06T17:12:09.629777Z",
     "shell.execute_reply.started": "2023-09-06T17:12:09.626292Z"
    }
   },
   "outputs": [],
   "source": [
    "import json\n",
    "import pathlib\n",
    "\n",
    "import numpy as np\n",
    "import pandas as pd\n",
    "import xgboost as xgb\n",
    "from tcbench.modeling import backbone"
   ]
  },
  {
   "cell_type": "markdown",
   "id": "20b71ee4-de51-4d8a-a11a-892a1fa76101",
   "metadata": {},
   "source": [
    "# Section 3"
   ]
  },
  {
   "cell_type": "markdown",
   "id": "afdad9d3-f78c-4921-9531-c3a5a615ce52",
   "metadata": {},
   "source": [
    "## total number of campaigns"
   ]
  },
  {
   "cell_type": "code",
   "execution_count": 112,
   "id": "c901168c-9d0a-44f2-b8d0-5f4fff198c69",
   "metadata": {
    "execution": {
     "iopub.execute_input": "2023-09-06T19:33:46.245963Z",
     "iopub.status.busy": "2023-09-06T19:33:46.245406Z",
     "iopub.status.idle": "2023-09-06T19:33:46.251494Z",
     "shell.execute_reply": "2023-09-06T19:33:46.250664Z",
     "shell.execute_reply.started": "2023-09-06T19:33:46.245921Z"
    }
   },
   "outputs": [],
   "source": [
    "def find_artifacts_folder(folder):\n",
    "    if folder.name == \"artifacts\":\n",
    "        return [folder]\n",
    "\n",
    "    res = []\n",
    "    for item in folder.iterdir():\n",
    "        if item.is_dir():\n",
    "            res += find_artifacts_folder(item)\n",
    "    return res\n",
    "            \n",
    "# \"campaigns/mirage19/augmentation-at-loading-no-dropout/minpkts10/"
   ]
  },
  {
   "cell_type": "code",
   "execution_count": 115,
   "id": "e869e9e3-459b-4f40-bde4-0cc3ac6f875a",
   "metadata": {
    "execution": {
     "iopub.execute_input": "2023-09-06T19:34:25.677061Z",
     "iopub.status.busy": "2023-09-06T19:34:25.676632Z",
     "iopub.status.idle": "2023-09-06T19:34:26.398755Z",
     "shell.execute_reply": "2023-09-06T19:34:26.397966Z",
     "shell.execute_reply.started": "2023-09-06T19:34:25.677029Z"
    }
   },
   "outputs": [
    {
     "data": {
      "text/plain": [
       "13"
      ]
     },
     "execution_count": 115,
     "metadata": {},
     "output_type": "execute_result"
    }
   ],
   "source": [
    "folders = find_artifacts_folder(pathlib.Path(\"./campaigns/\"))\n",
    "len(folders)"
   ]
  },
  {
   "cell_type": "markdown",
   "id": "d6d68fe0-2861-4cab-b493-733fe3e861ab",
   "metadata": {},
   "source": [
    "## total number of runs"
   ]
  },
  {
   "cell_type": "code",
   "execution_count": 121,
   "id": "4d89a1f9-8ec1-407b-ad08-aecc0cad4f84",
   "metadata": {
    "execution": {
     "iopub.execute_input": "2023-09-06T19:37:21.342296Z",
     "iopub.status.busy": "2023-09-06T19:37:21.341909Z",
     "iopub.status.idle": "2023-09-06T19:37:21.356156Z",
     "shell.execute_reply": "2023-09-06T19:37:21.355309Z",
     "shell.execute_reply.started": "2023-09-06T19:37:21.342266Z"
    }
   },
   "outputs": [
    {
     "data": {
      "text/plain": [
       "2760"
      ]
     },
     "execution_count": 121,
     "metadata": {},
     "output_type": "execute_result"
    }
   ],
   "source": [
    "sum([len(list(path.iterdir())) for path in folders])"
   ]
  },
  {
   "cell_type": "markdown",
   "id": "e6e45c94-6ce4-4b9e-8874-d37e69337b60",
   "metadata": {},
   "source": [
    "# Section 4"
   ]
  },
  {
   "cell_type": "markdown",
   "id": "e48ccb56-2ff6-4426-8bd3-1b7bb407c414",
   "metadata": {},
   "source": [
    "### Average depth of xgboost models"
   ]
  },
  {
   "cell_type": "code",
   "execution_count": 8,
   "id": "053269c8-c895-43bf-9618-2d851c8c716a",
   "metadata": {
    "execution": {
     "iopub.execute_input": "2023-09-06T17:02:57.387872Z",
     "iopub.status.busy": "2023-09-06T17:02:57.387427Z",
     "iopub.status.idle": "2023-09-06T17:02:57.393421Z",
     "shell.execute_reply": "2023-09-06T17:02:57.392636Z",
     "shell.execute_reply.started": "2023-09-06T17:02:57.387836Z"
    }
   },
   "outputs": [],
   "source": [
    "class Node:\n",
    "    def __init__(self, node_id, left=None, right=None):\n",
    "        self.node_id = node_id\n",
    "        self.left = left\n",
    "        self.right = right\n",
    "\n",
    "    def is_leaf(self):\n",
    "        return self.left is None and self.right is None"
   ]
  },
  {
   "cell_type": "code",
   "execution_count": 29,
   "id": "1150f404-1ea0-4d94-9022-c40df326b1f7",
   "metadata": {
    "execution": {
     "iopub.execute_input": "2023-09-06T17:05:41.203258Z",
     "iopub.status.busy": "2023-09-06T17:05:41.202874Z",
     "iopub.status.idle": "2023-09-06T17:05:41.210310Z",
     "shell.execute_reply": "2023-09-06T17:05:41.209451Z",
     "shell.execute_reply.started": "2023-09-06T17:05:41.203227Z"
    }
   },
   "outputs": [],
   "source": [
    "def build_graph(tree_data):\n",
    "    df_tmp = tree_data.fillna(-1)\n",
    "    nodes = {node_id: Node(node_id) for node_id in df_tmp[\"ID\"]}\n",
    "    nodes[-1] = None\n",
    "\n",
    "    for idx, node in zip(range(len(df_tmp)), nodes.values()):\n",
    "        left_id, right_id = df_tmp.iloc[idx][[\"Yes\", \"No\"]]\n",
    "        node.left = nodes.get(left_id, None)\n",
    "        node.right = nodes.get(right_id, None)\n",
    "\n",
    "    return next(iter(nodes.values()))"
   ]
  },
  {
   "cell_type": "code",
   "execution_count": 42,
   "id": "1e90fd32-0e4b-49bd-a68e-5df8634f84b2",
   "metadata": {
    "execution": {
     "iopub.execute_input": "2023-09-06T17:06:31.520341Z",
     "iopub.status.busy": "2023-09-06T17:06:31.519969Z",
     "iopub.status.idle": "2023-09-06T17:06:31.524993Z",
     "shell.execute_reply": "2023-09-06T17:06:31.524256Z",
     "shell.execute_reply.started": "2023-09-06T17:06:31.520313Z"
    }
   },
   "outputs": [],
   "source": [
    "def _graph_max_depth(node, depth=0):\n",
    "    if node.is_leaf():\n",
    "        return depth\n",
    "    return max(\n",
    "        _graph_max_depth(node.left, depth + 1), _graph_max_depth(node.right, depth + 1)\n",
    "    )"
   ]
  },
  {
   "cell_type": "code",
   "execution_count": 52,
   "id": "20fa5782-70fc-49a4-a765-a73be05f3818",
   "metadata": {
    "execution": {
     "iopub.execute_input": "2023-09-06T17:10:10.421045Z",
     "iopub.status.busy": "2023-09-06T17:10:10.420675Z",
     "iopub.status.idle": "2023-09-06T17:10:10.424966Z",
     "shell.execute_reply": "2023-09-06T17:10:10.424254Z",
     "shell.execute_reply.started": "2023-09-06T17:10:10.421008Z"
    }
   },
   "outputs": [],
   "source": [
    "def _tree_max_depth(df_tree):\n",
    "    root = build_graph(df_tree)\n",
    "    return _graph_max_depth(root)"
   ]
  },
  {
   "cell_type": "code",
   "execution_count": 51,
   "id": "9264a482-fb1d-4231-9369-d2f09d090372",
   "metadata": {
    "execution": {
     "iopub.execute_input": "2023-09-06T17:10:07.650528Z",
     "iopub.status.busy": "2023-09-06T17:10:07.649942Z",
     "iopub.status.idle": "2023-09-06T17:10:07.657221Z",
     "shell.execute_reply": "2023-09-06T17:10:07.656418Z",
     "shell.execute_reply.started": "2023-09-06T17:10:07.650486Z"
    }
   },
   "outputs": [],
   "source": [
    "def trees_avg_depth(fname):\n",
    "    xgb_model = backbone.xgboost_factory().xgb_model\n",
    "    xgb_model.load_model(fname)\n",
    "    booster_data = xgb_model.get_booster().trees_to_dataframe()\n",
    "    return booster_data.groupby(\"Tree\").apply(_tree_max_depth).mean()"
   ]
  },
  {
   "cell_type": "code",
   "execution_count": 58,
   "id": "8a62d83a-87e3-4f1d-8340-891e8022d9c2",
   "metadata": {
    "execution": {
     "iopub.execute_input": "2023-09-06T17:12:30.663022Z",
     "iopub.status.busy": "2023-09-06T17:12:30.662698Z",
     "iopub.status.idle": "2023-09-06T17:13:07.854234Z",
     "shell.execute_reply": "2023-09-06T17:13:07.853204Z",
     "shell.execute_reply.started": "2023-09-06T17:12:30.662996Z"
    }
   },
   "outputs": [
    {
     "data": {
      "text/plain": [
       "1.6982666666666666"
      ]
     },
     "execution_count": 58,
     "metadata": {},
     "output_type": "execute_result"
    }
   ],
   "source": [
    "folder = pathlib.Path(\n",
    "    \"campaigns/ucdavis-icdm19/xgboost/noaugmentation-timeseries/artifacts/\"\n",
    ")\n",
    "\n",
    "np.array([trees_avg_depth(fname) for fname in folder.glob(\"*/*.json\")]).mean()"
   ]
  },
  {
   "cell_type": "code",
   "execution_count": 59,
   "id": "c0136e74-bb26-4b60-8547-5993f8cb0fcd",
   "metadata": {
    "execution": {
     "iopub.execute_input": "2023-09-06T17:13:22.058282Z",
     "iopub.status.busy": "2023-09-06T17:13:22.057946Z",
     "iopub.status.idle": "2023-09-06T17:13:51.853639Z",
     "shell.execute_reply": "2023-09-06T17:13:51.852572Z",
     "shell.execute_reply.started": "2023-09-06T17:13:22.058252Z"
    }
   },
   "outputs": [
    {
     "data": {
      "text/plain": [
       "1.3896"
      ]
     },
     "execution_count": 59,
     "metadata": {},
     "output_type": "execute_result"
    }
   ],
   "source": [
    "folder = pathlib.Path(\n",
    "    \"campaigns/ucdavis-icdm19/xgboost/noaugmentation-flowpic/artifacts/\"\n",
    ")\n",
    "\n",
    "np.array([trees_avg_depth(fname) for fname in folder.glob(\"*/*.json\")]).mean()"
   ]
  },
  {
   "cell_type": "markdown",
   "id": "5473b363-ec53-4054-9d15-46c81fc68529",
   "metadata": {},
   "source": [
    "# Section 4"
   ]
  },
  {
   "cell_type": "markdown",
   "id": "5ade9a54-c627-49d6-9071-a901b2358baf",
   "metadata": {},
   "source": [
    "# average experiment duration"
   ]
  },
  {
   "cell_type": "code",
   "execution_count": 73,
   "id": "a5d0347d-2a1c-4b86-ba09-c76db7d5d6e7",
   "metadata": {
    "execution": {
     "iopub.execute_input": "2023-09-06T18:16:54.222851Z",
     "iopub.status.busy": "2023-09-06T18:16:54.222445Z",
     "iopub.status.idle": "2023-09-06T18:16:54.226727Z",
     "shell.execute_reply": "2023-09-06T18:16:54.225999Z",
     "shell.execute_reply.started": "2023-09-06T18:16:54.222823Z"
    }
   },
   "outputs": [],
   "source": [
    "folder = pathlib.Path(\n",
    "    \"campaigns/ucdavis-icdm19/augmentation-at-loading-with-dropout/campaign_summary/augment-at-loading-with-dropout/\"\n",
    ")"
   ]
  },
  {
   "cell_type": "code",
   "execution_count": 74,
   "id": "ffb19e49-736a-4509-b8f1-925d6ac5882f",
   "metadata": {
    "execution": {
     "iopub.execute_input": "2023-09-06T18:16:58.726251Z",
     "iopub.status.busy": "2023-09-06T18:16:58.725922Z",
     "iopub.status.idle": "2023-09-06T18:16:58.741592Z",
     "shell.execute_reply": "2023-09-06T18:16:58.740830Z",
     "shell.execute_reply.started": "2023-09-06T18:16:58.726225Z"
    }
   },
   "outputs": [
    {
     "data": {
      "text/plain": [
       "1512.8632845379057"
      ]
     },
     "execution_count": 74,
     "metadata": {},
     "output_type": "execute_result"
    }
   ],
   "source": [
    "# all test splits are evaluated at the same time\n",
    "# so it's enough to check one of them\n",
    "runs_1500 = pd.read_parquet(folder / \"runsinfo_flowpic_dim_1500.parquet\")\n",
    "runs_1500[runs_1500[\"test_split_name\"] == \"test-script\"][\"run_duration\"].mean()"
   ]
  },
  {
   "cell_type": "code",
   "execution_count": 75,
   "id": "82f60e9e-7bda-4f37-bf87-fc84cafc51ab",
   "metadata": {
    "execution": {
     "iopub.execute_input": "2023-09-06T18:17:13.458330Z",
     "iopub.status.busy": "2023-09-06T18:17:13.457926Z",
     "iopub.status.idle": "2023-09-06T18:17:13.472794Z",
     "shell.execute_reply": "2023-09-06T18:17:13.471907Z",
     "shell.execute_reply.started": "2023-09-06T18:17:13.458300Z"
    }
   },
   "outputs": [
    {
     "data": {
      "text/plain": [
       "55.191846643175396"
      ]
     },
     "execution_count": 75,
     "metadata": {},
     "output_type": "execute_result"
    }
   ],
   "source": [
    "runs_32 = pd.read_parquet(folder / \"runsinfo_flowpic_dim_32.parquet\")\n",
    "runs_32[runs_32[\"test_split_name\"] == \"test-script\"][\"run_duration\"].mean()"
   ]
  },
  {
   "cell_type": "code",
   "execution_count": 76,
   "id": "ee966a9e-9910-4182-a59e-8b68f8ce3920",
   "metadata": {
    "execution": {
     "iopub.execute_input": "2023-09-06T18:17:29.202208Z",
     "iopub.status.busy": "2023-09-06T18:17:29.201768Z",
     "iopub.status.idle": "2023-09-06T18:17:29.216388Z",
     "shell.execute_reply": "2023-09-06T18:17:29.215602Z",
     "shell.execute_reply.started": "2023-09-06T18:17:29.202177Z"
    }
   },
   "outputs": [
    {
     "data": {
      "text/plain": [
       "70.5957797731672"
      ]
     },
     "execution_count": 76,
     "metadata": {},
     "output_type": "execute_result"
    }
   ],
   "source": [
    "runs_64 = pd.read_parquet(folder / \"runsinfo_flowpic_dim_64.parquet\")\n",
    "runs_64[runs_64[\"test_split_name\"] == \"test-script\"][\"run_duration\"].mean()"
   ]
  },
  {
   "cell_type": "markdown",
   "id": "74f8115d-59d9-4ee1-a72d-801c8715afe3",
   "metadata": {},
   "source": [
    "# number of samples when doing a 80/20 train/val split based on all samples available"
   ]
  },
  {
   "cell_type": "code",
   "execution_count": 81,
   "id": "891b4c59-4b7e-45b1-9520-7368553a0717",
   "metadata": {
    "execution": {
     "iopub.execute_input": "2023-09-06T18:24:35.520672Z",
     "iopub.status.busy": "2023-09-06T18:24:35.520228Z",
     "iopub.status.idle": "2023-09-06T18:24:35.524724Z",
     "shell.execute_reply": "2023-09-06T18:24:35.523945Z",
     "shell.execute_reply.started": "2023-09-06T18:24:35.520640Z"
    }
   },
   "outputs": [],
   "source": [
    "folder = pathlib.Path(\n",
    "    \"campaigns/ucdavis-icdm19/larger-trainset/augmentation-at-loading\"\n",
    ")"
   ]
  },
  {
   "cell_type": "code",
   "execution_count": 82,
   "id": "d7c21553-58ce-4f9f-bd52-18d9f16d9913",
   "metadata": {
    "execution": {
     "iopub.execute_input": "2023-09-06T18:25:29.701962Z",
     "iopub.status.busy": "2023-09-06T18:25:29.701562Z",
     "iopub.status.idle": "2023-09-06T18:25:29.714399Z",
     "shell.execute_reply": "2023-09-06T18:25:29.713488Z",
     "shell.execute_reply.started": "2023-09-06T18:25:29.701933Z"
    }
   },
   "outputs": [],
   "source": [
    "# this is reported in the logs so we can simply check one run\n",
    "# that does not have any augmentation\n",
    "\n",
    "runs = pd.read_parquet(\n",
    "    folder\n",
    "    / \"campaign_summary/augment-at-loading-larger-trainset/runsinfo_flowpic_dim_32.parquet\"\n",
    ")"
   ]
  },
  {
   "cell_type": "code",
   "execution_count": 85,
   "id": "faf7cbe7-f570-4ff7-9362-981c92c0095f",
   "metadata": {
    "execution": {
     "iopub.execute_input": "2023-09-06T18:25:59.539239Z",
     "iopub.status.busy": "2023-09-06T18:25:59.538846Z",
     "iopub.status.idle": "2023-09-06T18:25:59.544573Z",
     "shell.execute_reply": "2023-09-06T18:25:59.543648Z",
     "shell.execute_reply.started": "2023-09-06T18:25:59.539209Z"
    }
   },
   "outputs": [],
   "source": [
    "run_hash = runs[runs[\"aug_name\"] == \"noaug\"][\"hash\"].values[0]"
   ]
  },
  {
   "cell_type": "code",
   "execution_count": 90,
   "id": "a00adbd8-1cae-4583-90e9-c6c08cc548d8",
   "metadata": {
    "execution": {
     "iopub.execute_input": "2023-09-06T18:26:52.606430Z",
     "iopub.status.busy": "2023-09-06T18:26:52.606098Z",
     "iopub.status.idle": "2023-09-06T18:26:52.612897Z",
     "shell.execute_reply": "2023-09-06T18:26:52.612140Z",
     "shell.execute_reply.started": "2023-09-06T18:26:52.606403Z"
    }
   },
   "outputs": [
    {
     "data": {
      "text/plain": [
       "['',\n",
       " 'connecting to AIM repo at: /mnt/storage/finamore/imc23-submission/camera-ready/campaigns/ucdavis-icdm19/augment-at-loading_larger-trainset/__staging__/netml05_gpu0',\n",
       " 'created aim run hash=d0af742e1b0846169452b04a',\n",
       " 'artifacts folder at: /mnt/storage/finamore/imc23-submission/camera-ready/campaigns/ucdavis-icdm19/augment-at-loading_larger-trainset/__staging__/netml05_gpu0/artifacts/d0af742e1b0846169452b04a',\n",
       " 'WARNING: the artifact folder is not a subfolder of the AIM repo',\n",
       " '--- run hparams ---',\n",
       " 'flowpic_dim: 32',\n",
       " 'flowpic_block_duration: 15',\n",
       " 'split_index: -1',\n",
       " 'max_samples_per_class: -1',\n",
       " 'aug_name: noaug',\n",
       " 'patience_steps: 5',\n",
       " 'suppress_val_augmentation: False',\n",
       " 'dataset: ucdavis-icdm19',\n",
       " 'dataset_minpkts: -1',\n",
       " 'seed: 25',\n",
       " 'with_dropout: False',\n",
       " 'campaign_id: augment-at-loading-larger-trainset',\n",
       " 'campaign_exp_idx: 20',\n",
       " '-------------------',\n",
       " 'loaded: /opt/anaconda/anaconda3/envs/super-tcbench/lib/python3.10/site-packages/tcbench/libtcdatasets/datasets/ucdavis-icdm19/preprocessed/ucdavis-icdm19.parquet',\n",
       " 'no augmentation',\n",
       " 'no augmentation',\n",
       " 'dataset samples count',\n",
       " '               train  val',\n",
       " 'app                      ',\n",
       " 'google-search   1532  383',\n",
       " 'google-drive    1307  327',\n",
       " 'google-doc       976  245',\n",
       " 'youtube          861  216',\n",
       " 'google-music     473  119',\n",
       " '']"
      ]
     },
     "execution_count": 90,
     "metadata": {},
     "output_type": "execute_result"
    }
   ],
   "source": [
    "fname_log = folder / \"artifacts\" / run_hash / \"log.txt\"\n",
    "fname_log.read_text().splitlines()[:32]"
   ]
  },
  {
   "cell_type": "markdown",
   "id": "8a081505-bb9d-4a68-b8e6-e95b77cc4a70",
   "metadata": {},
   "source": [
    "## comparing SimCLR results between 100 samples and larger training"
   ]
  },
  {
   "cell_type": "code",
   "execution_count": 93,
   "id": "5c903594-d19a-4d3f-99e9-641aceb44b3a",
   "metadata": {
    "execution": {
     "iopub.execute_input": "2023-09-06T19:19:57.534732Z",
     "iopub.status.busy": "2023-09-06T19:19:57.534246Z",
     "iopub.status.idle": "2023-09-06T19:19:57.544700Z",
     "shell.execute_reply": "2023-09-06T19:19:57.543938Z",
     "shell.execute_reply.started": "2023-09-06T19:19:57.534701Z"
    }
   },
   "outputs": [],
   "source": [
    "df_100_samples = pd.read_csv(\n",
    "    \"campaigns/ucdavis-icdm19/simclr-dropout-and-projection/campaign_summary/simclr-dropout-and-projection/summary_flowpic_dim_32.csv\",\n",
    "    header = [0, 1],\n",
    "    index_col = [0, 1, 2]\n",
    ")"
   ]
  },
  {
   "cell_type": "code",
   "execution_count": 109,
   "id": "705440da-080d-4c73-8cfd-47d29bb39012",
   "metadata": {
    "execution": {
     "iopub.execute_input": "2023-09-06T19:23:38.866980Z",
     "iopub.status.busy": "2023-09-06T19:23:38.866634Z",
     "iopub.status.idle": "2023-09-06T19:23:38.878084Z",
     "shell.execute_reply": "2023-09-06T19:23:38.877145Z",
     "shell.execute_reply.started": "2023-09-06T19:23:38.866952Z"
    }
   },
   "outputs": [
    {
     "data": {
      "text/plain": [
       "test-human     74.690909\n",
       "test-script    92.184000\n",
       "Name: mean, dtype: float64"
      ]
     },
     "execution_count": 109,
     "metadata": {},
     "output_type": "execute_result"
    }
   ],
   "source": [
    "ser_100samples = df_100_samples[\"acc\"].xs(30, level=1, axis=0).xs(False, level=1, axis=0)[\"mean\"]\n",
    "ser_100samples"
   ]
  },
  {
   "cell_type": "code",
   "execution_count": 103,
   "id": "09bd310d-9ca9-46d5-bf90-dec62c0432af",
   "metadata": {
    "execution": {
     "iopub.execute_input": "2023-09-06T19:22:25.912168Z",
     "iopub.status.busy": "2023-09-06T19:22:25.911782Z",
     "iopub.status.idle": "2023-09-06T19:22:25.921329Z",
     "shell.execute_reply": "2023-09-06T19:22:25.920471Z",
     "shell.execute_reply.started": "2023-09-06T19:22:25.912139Z"
    }
   },
   "outputs": [],
   "source": [
    "df_largerdataset = pd.read_csv(\n",
    "    \"campaigns/ucdavis-icdm19/larger-trainset/simclr/campaign_summary/simclr-larger-trainset/summary_flowpic_dim_32.csv\",\n",
    "    header = [0, 1],\n",
    "    index_col = [0, 1]\n",
    ")"
   ]
  },
  {
   "cell_type": "code",
   "execution_count": 107,
   "id": "d0c4f492-6fc4-48ba-8086-41199d3cd726",
   "metadata": {
    "execution": {
     "iopub.execute_input": "2023-09-06T19:23:22.679264Z",
     "iopub.status.busy": "2023-09-06T19:23:22.678906Z",
     "iopub.status.idle": "2023-09-06T19:23:22.684606Z",
     "shell.execute_reply": "2023-09-06T19:23:22.683813Z",
     "shell.execute_reply.started": "2023-09-06T19:23:22.679235Z"
    }
   },
   "outputs": [],
   "source": [
    "ser_largerdataset = df_largerdataset[\"acc\"][\"mean\"].droplevel(1, axis=0)"
   ]
  },
  {
   "cell_type": "code",
   "execution_count": 108,
   "id": "45f477ab-c4c2-4426-a0c6-99774e6969b3",
   "metadata": {
    "execution": {
     "iopub.execute_input": "2023-09-06T19:23:28.970853Z",
     "iopub.status.busy": "2023-09-06T19:23:28.970516Z",
     "iopub.status.idle": "2023-09-06T19:23:28.978312Z",
     "shell.execute_reply": "2023-09-06T19:23:28.977363Z",
     "shell.execute_reply.started": "2023-09-06T19:23:28.970826Z"
    }
   },
   "outputs": [
    {
     "data": {
      "text/plain": [
       "test-human     80.454545\n",
       "test-script    93.900000\n",
       "Name: mean, dtype: float64"
      ]
     },
     "execution_count": 108,
     "metadata": {},
     "output_type": "execute_result"
    }
   ],
   "source": [
    "ser_largerdataset"
   ]
  },
  {
   "cell_type": "code",
   "execution_count": 111,
   "id": "dd15b815-31e1-4501-a6ed-826ae331e8ab",
   "metadata": {
    "execution": {
     "iopub.execute_input": "2023-09-06T19:24:14.224428Z",
     "iopub.status.busy": "2023-09-06T19:24:14.224075Z",
     "iopub.status.idle": "2023-09-06T19:24:14.232209Z",
     "shell.execute_reply": "2023-09-06T19:24:14.231309Z",
     "shell.execute_reply.started": "2023-09-06T19:24:14.224401Z"
    }
   },
   "outputs": [
    {
     "data": {
      "text/plain": [
       "test-human     5.76\n",
       "test-script    1.72\n",
       "Name: mean, dtype: float64"
      ]
     },
     "execution_count": 111,
     "metadata": {},
     "output_type": "execute_result"
    }
   ],
   "source": [
    "(ser_largerdataset - ser_100samples).round(2)"
   ]
  },
  {
   "cell_type": "markdown",
   "id": "8c99bdba-db80-447b-843b-3b32b5e367e1",
   "metadata": {},
   "source": [
    "## min and max from Table 3"
   ]
  },
  {
   "cell_type": "code",
   "execution_count": 5,
   "id": "0dd8e41a-5e9b-4186-adbc-f4685b884816",
   "metadata": {
    "execution": {
     "iopub.execute_input": "2023-09-06T12:48:08.518579Z",
     "iopub.status.busy": "2023-09-06T12:48:08.518151Z",
     "iopub.status.idle": "2023-09-06T12:48:08.531063Z",
     "shell.execute_reply": "2023-09-06T12:48:08.530239Z",
     "shell.execute_reply.started": "2023-09-06T12:48:08.518548Z"
    }
   },
   "outputs": [],
   "source": [
    "df_script = pd.read_csv(\n",
    "    \"table3_ucdavis-icdm19_comparing_data_augmentations_functions_test_on_script.csv\",\n",
    "    header=[0, 1, 2],\n",
    "    index_col=[0],\n",
    ")\n",
    "\n",
    "df_human = pd.read_csv(\n",
    "    \"table3_ucdavis-icdm19_comparing_data_augmentations_functions_test_on_human.csv\",\n",
    "    header=[0, 1, 2],\n",
    "    index_col=[0],\n",
    ")"
   ]
  },
  {
   "cell_type": "code",
   "execution_count": 28,
   "id": "8e54f725-f116-4718-874b-2cc76b555c67",
   "metadata": {
    "execution": {
     "iopub.execute_input": "2023-09-06T12:56:52.439697Z",
     "iopub.status.busy": "2023-09-06T12:56:52.439348Z",
     "iopub.status.idle": "2023-09-06T12:56:52.454643Z",
     "shell.execute_reply": "2023-09-06T12:56:52.453895Z",
     "shell.execute_reply.started": "2023-09-06T12:56:52.439669Z"
    }
   },
   "outputs": [
    {
     "data": {
      "text/plain": [
       "script    2.09\n",
       "human     3.22\n",
       "dtype: float64"
      ]
     },
     "execution_count": 28,
     "metadata": {},
     "output_type": "execute_result"
    }
   ],
   "source": [
    "ser_script = df_script[\"ours\"][\"32\"][\"mean\"].drop(\"mean_diff\", axis=0)\n",
    "ser_script.name = \"script\"\n",
    "\n",
    "ser_human = df_human[\"ours\"][\"32\"][\"mean\"].drop(\"mean_diff\", axis=0)\n",
    "ser_human.name = \"human\"\n",
    "\n",
    "df_tmp = pd.concat((ser_script, ser_human), axis=1)\n",
    "df_tmp.max() - df_tmp.min()"
   ]
  },
  {
   "cell_type": "markdown",
   "id": "9a336eda-ed75-45ff-b6b5-25147e3a88e6",
   "metadata": {},
   "source": [
    "## min and max from Table 8"
   ]
  },
  {
   "cell_type": "code",
   "execution_count": 23,
   "id": "58cb8a79-e30d-4b88-adb1-3396612fc39b",
   "metadata": {
    "execution": {
     "iopub.execute_input": "2023-09-06T12:54:03.237454Z",
     "iopub.status.busy": "2023-09-06T12:54:03.237067Z",
     "iopub.status.idle": "2023-09-06T12:54:03.251182Z",
     "shell.execute_reply": "2023-09-06T12:54:03.250406Z",
     "shell.execute_reply.started": "2023-09-06T12:54:03.237425Z"
    }
   },
   "outputs": [
    {
     "data": {
      "text/plain": [
       "mirage22 - minpkts10          5.50\n",
       "mirage22 - minpkts1000       10.08\n",
       "utmobilenet21 - minpkts10     4.15\n",
       "mirage19 - minpkts10         13.93\n",
       "dtype: float64"
      ]
     },
     "execution_count": 23,
     "metadata": {},
     "output_type": "execute_result"
    }
   ],
   "source": [
    "df_others = pd.read_csv(\n",
    "    \"table8_augmentation-at-loading_on_other_datasets.csv\", header=[0, 1], index_col=[0]\n",
    ")\n",
    "df_tmp = df_others.xs(\"mean\", level=1, axis=1)\n",
    "df_tmp.max() - df_tmp.min()"
   ]
  }
 ],
 "metadata": {
  "kernelspec": {
   "display_name": "Python 3 (ipykernel)",
   "language": "python",
   "name": "python3"
  },
  "language_info": {
   "codemirror_mode": {
    "name": "ipython",
    "version": 3
   },
   "file_extension": ".py",
   "mimetype": "text/x-python",
   "name": "python",
   "nbconvert_exporter": "python",
   "pygments_lexer": "ipython3",
   "version": "3.10.11"
  }
 },
 "nbformat": 4,
 "nbformat_minor": 5
}
