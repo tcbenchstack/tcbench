{
 "cells": [
  {
   "cell_type": "markdown",
   "id": "ad8f98cc-cfbe-44a0-8647-1b8e1c03e155",
   "metadata": {},
   "source": [
    "# Table 4: Impact of dropout and SimCLR projection layer dimension on fine-tuning."
   ]
  },
  {
   "cell_type": "markdown",
   "id": "e144e428-24bb-49be-8922-dbfb32c82b87",
   "metadata": {},
   "source": [
    "[:simple-jupyter: :material-download:](../../paper_tables_and_figures/table4_simclr_dropout_and_projectionlayer/table4_simclr_dropout_and_projectionlayer.ipynb)"
   ]
  },
  {
   "cell_type": "code",
   "execution_count": 34,
   "id": "b9cca11a-762b-4026-9fc8-8f26af55b505",
   "metadata": {},
   "outputs": [],
   "source": [
    "import pandas as pd"
   ]
  },
  {
   "cell_type": "code",
   "execution_count": 35,
   "id": "f7a9d088-819c-4501-bc7d-c755347b561f",
   "metadata": {},
   "outputs": [],
   "source": [
    "import itertools"
   ]
  },
  {
   "cell_type": "code",
   "execution_count": 32,
   "id": "f18d63aa-b5d0-4d37-956d-a1663fe9860a",
   "metadata": {},
   "outputs": [
    {
     "data": {
      "text/html": [
       "<div>\n",
       "<style scoped>\n",
       "    .dataframe tbody tr th:only-of-type {\n",
       "        vertical-align: middle;\n",
       "    }\n",
       "\n",
       "    .dataframe tbody tr th {\n",
       "        vertical-align: top;\n",
       "    }\n",
       "\n",
       "    .dataframe thead tr th {\n",
       "        text-align: left;\n",
       "    }\n",
       "</style>\n",
       "<table border=\"1\" class=\"dataframe\">\n",
       "  <thead>\n",
       "    <tr>\n",
       "      <th>test_split_name</th>\n",
       "      <th colspan=\"4\" halign=\"left\">test-script</th>\n",
       "      <th colspan=\"4\" halign=\"left\">test-human</th>\n",
       "    </tr>\n",
       "    <tr>\n",
       "      <th>with_dropout</th>\n",
       "      <th colspan=\"2\" halign=\"left\">True</th>\n",
       "      <th colspan=\"2\" halign=\"left\">False</th>\n",
       "      <th colspan=\"2\" halign=\"left\">True</th>\n",
       "      <th colspan=\"2\" halign=\"left\">False</th>\n",
       "    </tr>\n",
       "    <tr>\n",
       "      <th>projection_layer_dim</th>\n",
       "      <th>30.0</th>\n",
       "      <th>84.0</th>\n",
       "      <th>30.0</th>\n",
       "      <th>84.0</th>\n",
       "      <th>30.0</th>\n",
       "      <th>84.0</th>\n",
       "      <th>30.0</th>\n",
       "      <th>84.0</th>\n",
       "    </tr>\n",
       "  </thead>\n",
       "  <tbody>\n",
       "    <tr>\n",
       "      <th>mean</th>\n",
       "      <td>91.80</td>\n",
       "      <td>92.19</td>\n",
       "      <td>92.26</td>\n",
       "      <td>92.49</td>\n",
       "      <td>71.88</td>\n",
       "      <td>73.55</td>\n",
       "      <td>75.22</td>\n",
       "      <td>74.04</td>\n",
       "    </tr>\n",
       "    <tr>\n",
       "      <th>ci95</th>\n",
       "      <td>0.38</td>\n",
       "      <td>0.37</td>\n",
       "      <td>0.32</td>\n",
       "      <td>0.31</td>\n",
       "      <td>1.33</td>\n",
       "      <td>1.10</td>\n",
       "      <td>1.22</td>\n",
       "      <td>1.38</td>\n",
       "    </tr>\n",
       "  </tbody>\n",
       "</table>\n",
       "</div>"
      ],
      "text/plain": [
       "test_split_name      test-script                      test-human         \\\n",
       "with_dropout                True         False              True          \n",
       "projection_layer_dim        30.0   84.0   30.0   84.0       30.0   84.0   \n",
       "mean                       91.80  92.19  92.26  92.49      71.88  73.55   \n",
       "ci95                        0.38   0.37   0.32   0.31       1.33   1.10   \n",
       "\n",
       "test_split_name                     \n",
       "with_dropout          False         \n",
       "projection_layer_dim   30.0   84.0  \n",
       "mean                  75.22  74.04  \n",
       "ci95                   1.22   1.38  "
      ]
     },
     "execution_count": 32,
     "metadata": {},
     "output_type": "execute_result"
    }
   ],
   "source": [
    "df = pd.read_csv(\n",
    "    \"campaigns/ucdavis-icdm19/simclr-dropout-and-projection/campaign_summary/1684821411/summary_flowpic_dim_32.csv\"\n",
    ")\n",
    "\n",
    "# reformat the raw report\n",
    "RENAME = {\n",
    "    \"acc\": \"count\",\n",
    "    \"acc.1\": \"mean\",\n",
    "    \"acc.2\": \"std\",\n",
    "    \"acc.3\": \"ci95\"\n",
    "}\n",
    "df = df.set_index(['test_split_name', 'with_dropout', 'projection_layer_dim'], drop=True)\n",
    "df = df.rename(RENAME, axis=1)\n",
    "df = df.drop('finetune_augmentation', axis=1)\n",
    "df = df.iloc[1:].astype(float).round(2)\n",
    "df = df[['mean', 'ci95']].T\n",
    "df = df[list(itertools.product(['test-script', 'test-human'], [True, False], [30.0, 84.0]))]\n",
    "df"
   ]
  }
 ],
 "metadata": {
  "kernelspec": {
   "display_name": "Python 3 (ipykernel)",
   "language": "python",
   "name": "python3"
  },
  "language_info": {
   "codemirror_mode": {
    "name": "ipython",
    "version": 3
   },
   "file_extension": ".py",
   "mimetype": "text/x-python",
   "name": "python",
   "nbconvert_exporter": "python",
   "pygments_lexer": "ipython3",
   "version": "3.10.11"
  }
 },
 "nbformat": 4,
 "nbformat_minor": 5
}
