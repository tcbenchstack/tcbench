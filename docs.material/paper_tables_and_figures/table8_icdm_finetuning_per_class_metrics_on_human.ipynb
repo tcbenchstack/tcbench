{
 "cells": [
  {
   "cell_type": "markdown",
   "metadata": {},
   "source": [
    "# Table 8: Macro-average Accuracy with different retraining dataset and different sampling methods"
   ]
  },
  {
   "cell_type": "markdown",
   "metadata": {},
   "source": [
    "[:simple-jupyter: :material-download:](../../paper_tables_and_figures/table8_icdm_finetuning_per_class_metrics_on_human/table8_icdm_finetuning_per_class_metrics_on_human.ipynb)"
   ]
  },
  {
   "cell_type": "code",
   "execution_count": 81,
   "metadata": {},
   "outputs": [],
   "source": [
    "import pathlib\n",
    "\n",
    "import matplotlib as mpl\n",
    "import matplotlib.pyplot as plt\n",
    "import numpy as np\n",
    "import pandas as pd\n",
    "import seaborn as sns\n",
    "import statsmodels.stats.api as sms\n",
    "\n",
    "%matplotlib inline\n",
    "%config InlineBackend.figure_format='retina'"
   ]
  },
  {
   "cell_type": "code",
   "execution_count": 82,
   "metadata": {},
   "outputs": [],
   "source": [
    "def compute_confidence_intervals(array, alpha=0.05):\n",
    "    array = np.array(array)\n",
    "    low, high = sms.DescrStatsW(array).tconfint_mean(alpha)\n",
    "    mean = array.mean()\n",
    "    ci = high - mean\n",
    "    return ci"
   ]
  },
  {
   "cell_type": "code",
   "execution_count": 83,
   "metadata": {},
   "outputs": [],
   "source": [
    "path = pathlib.Path(\"./campaigns/ucdavis-icdm19-git-repo-forked/artifacts/\")\n",
    "\n",
    "class_repss = list(path.glob(\"*10/\"))"
   ]
  },
  {
   "cell_type": "code",
   "execution_count": 84,
   "metadata": {},
   "outputs": [],
   "source": [
    "data = dict()\n",
    "\n",
    "for path in class_repss:\n",
    "    if \"script\" in str(path):\n",
    "        class_reps = list(path.glob(\"*class_rep.csv\"))\n",
    "        accs = [pd.read_csv(file).iloc[6].values[2] for file in class_reps]\n",
    "\n",
    "        augmentation_name = path.name.split(\"_\")[0].replace(\"Sampling\", \"\")\n",
    "        data[augmentation_name] = (\n",
    "            np.mean(accs) * 100,\n",
    "            compute_confidence_intervals(accs),\n",
    "        )\n",
    "\n",
    "df_script = pd.DataFrame(data, index=[\"mean\", \"ci95\"]).T.round(2)\n",
    "df_script.columns = pd.MultiIndex.from_arrays([[\"script\", \"script\"], df_script.columns])\n",
    "# df_script"
   ]
  },
  {
   "cell_type": "code",
   "execution_count": 85,
   "metadata": {},
   "outputs": [],
   "source": [
    "data = dict()\n",
    "for path in class_repss:\n",
    "    if \"human\" in str(path):\n",
    "        class_reps = list(path.glob(\"*class_rep.csv\"))\n",
    "        accs = [pd.read_csv(file).iloc[6].values[2] for file in class_reps]\n",
    "\n",
    "        augmentation_name = path.name.split(\"_\")[0].replace(\"Sampling\", \"\")\n",
    "        data[augmentation_name] = (\n",
    "            np.mean(accs) * 100,\n",
    "            compute_confidence_intervals(accs),\n",
    "        )\n",
    "\n",
    "df_human = pd.DataFrame(data, index=[\"mean\", \"ci95\"]).T.round(2)\n",
    "df_human.columns = pd.MultiIndex.from_arrays([[\"human\", \"human\"], df_human.columns])"
   ]
  },
  {
   "cell_type": "code",
   "execution_count": 86,
   "metadata": {},
   "outputs": [
    {
     "data": {
      "text/html": [
       "<div>\n",
       "<style scoped>\n",
       "    .dataframe tbody tr th:only-of-type {\n",
       "        vertical-align: middle;\n",
       "    }\n",
       "\n",
       "    .dataframe tbody tr th {\n",
       "        vertical-align: top;\n",
       "    }\n",
       "\n",
       "    .dataframe thead th {\n",
       "        text-align: right;\n",
       "    }\n",
       "</style>\n",
       "<table border=\"1\" class=\"dataframe\">\n",
       "  <thead>\n",
       "    <tr style=\"text-align: right;\">\n",
       "      <th></th>\n",
       "      <th></th>\n",
       "      <th>FixedStep</th>\n",
       "      <th>Random</th>\n",
       "      <th>Incremental</th>\n",
       "    </tr>\n",
       "  </thead>\n",
       "  <tbody>\n",
       "    <tr>\n",
       "      <th rowspan=\"2\" valign=\"top\">script</th>\n",
       "      <th>mean</th>\n",
       "      <td>87.11</td>\n",
       "      <td>94.63</td>\n",
       "      <td>96.22</td>\n",
       "    </tr>\n",
       "    <tr>\n",
       "      <th>ci95</th>\n",
       "      <td>0.09</td>\n",
       "      <td>0.02</td>\n",
       "      <td>0.01</td>\n",
       "    </tr>\n",
       "    <tr>\n",
       "      <th rowspan=\"2\" valign=\"top\">human</th>\n",
       "      <th>mean</th>\n",
       "      <td>82.60</td>\n",
       "      <td>87.29</td>\n",
       "      <td>92.56</td>\n",
       "    </tr>\n",
       "    <tr>\n",
       "      <th>ci95</th>\n",
       "      <td>0.03</td>\n",
       "      <td>0.04</td>\n",
       "      <td>0.03</td>\n",
       "    </tr>\n",
       "  </tbody>\n",
       "</table>\n",
       "</div>"
      ],
      "text/plain": [
       "             FixedStep  Random  Incremental\n",
       "script mean      87.11   94.63        96.22\n",
       "       ci95       0.09    0.02         0.01\n",
       "human  mean      82.60   87.29        92.56\n",
       "       ci95       0.03    0.04         0.03"
      ]
     },
     "execution_count": 86,
     "metadata": {},
     "output_type": "execute_result"
    }
   ],
   "source": [
    "pd.concat((df_script, df_human), axis=1).T"
   ]
  }
 ],
 "metadata": {
  "kernelspec": {
   "display_name": "Python 3 (ipykernel)",
   "language": "python",
   "name": "python3"
  },
  "language_info": {
   "codemirror_mode": {
    "name": "ipython",
    "version": 3
   },
   "file_extension": ".py",
   "mimetype": "text/x-python",
   "name": "python",
   "nbconvert_exporter": "python",
   "pygments_lexer": "ipython3",
   "version": "3.10.11"
  }
 },
 "nbformat": 4,
 "nbformat_minor": 4
}
